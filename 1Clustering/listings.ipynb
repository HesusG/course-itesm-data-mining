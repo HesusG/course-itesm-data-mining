{
 "cells": [
  {
   "cell_type": "code",
   "execution_count": 2,
   "metadata": {},
   "outputs": [],
   "source": [
    "import pandas as pd\n",
    "import seaborn as sns\n",
    "import matplotlib.pyplot as plt\n",
    "\n",
    "# Load the dataset\n",
    "file_path = './data/listingssi.csv'\n",
    "df = pd.read_csv(file_path)\n"
   ]
  },
  {
   "cell_type": "code",
   "execution_count": 3,
   "metadata": {},
   "outputs": [],
   "source": [
    "\n",
    "# Specify proper datatypes for each column based on initial assessment\n",
    "data_types_optimized = {\n",
    "    'id': 'category',\n",
    "    'scrape_id': 'category',\n",
    "    'host_id': 'category',\n",
    "    'host_listings_count': 'int16',\n",
    "    'host_total_listings_count': 'int16',\n",
    "    'calculated_host_listings_count': 'int16',\n",
    "    'calculated_host_listings_count_entire_homes': 'int16',\n",
    "    'calculated_host_listings_count_private_rooms': 'int16',\n",
    "    'calculated_host_listings_count_shared_rooms': 'int16',\n",
    "    'reviews_per_month': 'float32',\n",
    "    'listing_url': 'category',\n",
    "    'last_scraped': 'category',\n",
    "    'source': 'category',\n",
    "    'name': 'category',\n",
    "    'description': 'category',\n",
    "    'neighborhood_overview': 'category',\n",
    "    'picture_url': 'category',\n",
    "    'host_url': 'category',\n",
    "    'host_name': 'category',\n",
    "    'host_since': 'category',\n",
    "    'host_location': 'category',\n",
    "    'host_about': 'category',\n",
    "    'host_response_time': 'category',\n",
    "    'host_response_rate': 'category',\n",
    "    'host_acceptance_rate': 'category',\n",
    "    'host_is_superhost': 'category',\n",
    "    'host_thumbnail_url': 'category',\n",
    "    'host_picture_url': 'category',\n",
    "    'host_neighbourhood': 'category'\n",
    "}\n",
    "\n",
    "# Apply the optimized data types to the dataset\n",
    "df = df.astype(data_types_optimized)\n",
    "\n",
    "# Create two separate datasets: Numeric and Categorical\n",
    "df_numeric = df.select_dtypes(include=['int', 'float']).copy()\n",
    "df_categorical = df.select_dtypes(include=['category', 'object']).copy()\n",
    "\n",
    "# Exclude columns that have \"_id\" from the numeric dataset\n",
    "numeric_cols_without_id = [col for col in df_numeric.columns if '_id' not in col]\n",
    "df_numeric_excluding_id = df_numeric[numeric_cols_without_id]\n",
    "\n"
   ]
  }
 ],
 "metadata": {
  "kernelspec": {
   "display_name": "Python 3",
   "language": "python",
   "name": "python3"
  },
  "language_info": {
   "codemirror_mode": {
    "name": "ipython",
    "version": 3
   },
   "file_extension": ".py",
   "mimetype": "text/x-python",
   "name": "python",
   "nbconvert_exporter": "python",
   "pygments_lexer": "ipython3",
   "version": "3.7.16"
  }
 },
 "nbformat": 4,
 "nbformat_minor": 2
}
