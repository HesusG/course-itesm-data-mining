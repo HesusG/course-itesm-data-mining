{
  "nbformat": 4,
  "nbformat_minor": 0,
  "metadata": {
    "colab": {
      "provenance": [],
      "collapsed_sections": [
        "ylaTp19CxxX7",
        "T-SimXkmx03T",
        "9dceU9DapgIE",
        "oSTq0ZsNqROJ"
      ]
    },
    "kernelspec": {
      "name": "python3",
      "display_name": "Python 3"
    },
    "language_info": {
      "name": "python"
    }
  },
  "cells": [
    {
      "cell_type": "code",
      "execution_count": null,
      "metadata": {
        "id": "p_4ucLZKuwSN"
      },
      "outputs": [],
      "source": [
        "import pandas as pd\n",
        "import numpy as np\n",
        "import matplotlib.pyplot as plt\n",
        "import seaborn as sns\n",
        "import warnings\n",
        "\n",
        "warnings.filterwarnings('ignore')\n",
        "\n",
        "sns.set_style('darkgrid')\n",
        "sns.set_palette('husl')"
      ]
    },
    {
      "cell_type": "code",
      "source": [
        "!{sys.executable} -m pip install py-heat-magic\n",
        "%load_ext heat\n",
        "!{sys.executable} -m pip install memory_profiler\n",
        "%load_ext memory_profiler"
      ],
      "metadata": {
        "colab": {
          "base_uri": "https://localhost:8080/"
        },
        "id": "0LxZVkGHxt98",
        "outputId": "b93140a8-932f-4680-acce-f05115c636db"
      },
      "execution_count": null,
      "outputs": [
        {
          "output_type": "stream",
          "name": "stdout",
          "text": [
            "/bin/bash: {sys.executable}: command not found\n",
            "/bin/bash: {sys.executable}: command not found\n"
          ]
        }
      ]
    },
    {
      "cell_type": "code",
      "source": [
        "def factorial(n):\n",
        "  product = 1\n",
        "  for i in range(n):\n",
        "    product = product * (i+1)\n",
        "  return product"
      ],
      "metadata": {
        "id": "ch_ACtAdvdoZ"
      },
      "execution_count": null,
      "outputs": []
    },
    {
      "cell_type": "code",
      "source": [
        "print(factorial(5))"
      ],
      "metadata": {
        "colab": {
          "base_uri": "https://localhost:8080/"
        },
        "id": "GhF4z-8PvuKv",
        "outputId": "cad6a6d7-402d-4274-a82a-1feabef2453d"
      },
      "execution_count": null,
      "outputs": [
        {
          "output_type": "stream",
          "name": "stdout",
          "text": [
            "120\n"
          ]
        }
      ]
    },
    {
      "cell_type": "code",
      "source": [
        "def factorial_r(n):\n",
        "  if n == 0:\n",
        "    return 1\n",
        "  else:\n",
        "    return n * factorial_r(n-1)\n",
        "\n",
        "print(factorial_r(5))"
      ],
      "metadata": {
        "colab": {
          "base_uri": "https://localhost:8080/"
        },
        "id": "uEWKSFLEv0h2",
        "outputId": "b4534ff4-625f-4d49-a631-36023ab9dbe3"
      },
      "execution_count": null,
      "outputs": [
        {
          "output_type": "stream",
          "name": "stdout",
          "text": [
            "120\n"
          ]
        }
      ]
    },
    {
      "cell_type": "code",
      "source": [
        "%timeit factorial(50)"
      ],
      "metadata": {
        "colab": {
          "base_uri": "https://localhost:8080/"
        },
        "id": "DwiBkgEBwK-2",
        "outputId": "02f2e42d-1309-4ee4-a295-d3f789ebf9bf"
      },
      "execution_count": null,
      "outputs": [
        {
          "output_type": "stream",
          "name": "stdout",
          "text": [
            "9.47 µs ± 3.96 µs per loop (mean ± std. dev. of 7 runs, 100000 loops each)\n"
          ]
        }
      ]
    },
    {
      "cell_type": "code",
      "source": [
        "%timeit factorial_r(50)"
      ],
      "metadata": {
        "colab": {
          "base_uri": "https://localhost:8080/"
        },
        "id": "hdJhaHnTwf9e",
        "outputId": "2613bef5-fc71-4de3-e8b0-642f94829483"
      },
      "execution_count": null,
      "outputs": [
        {
          "output_type": "stream",
          "name": "stdout",
          "text": [
            "8.44 µs ± 67.6 ns per loop (mean ± std. dev. of 7 runs, 100000 loops each)\n"
          ]
        }
      ]
    },
    {
      "cell_type": "markdown",
      "source": [
        "El tiempo de ejecución muestra que el primer algoritmo es más rápido en comparación con el segundo, que implica la recursión. Cuando se trata de entradas grandes, la diferencia de rendimiento puede ser más significativa.\n",
        "\n",
        "Sin embargo, el tiempo de ejecución no es una buena métrica para medir la complejidad de un algoritmo, ya que depende del hardware. Se necesita una métrica de análisis de complejidad más objetiva para un algoritmo. Aquí es donde entra en juego la notación Big O.\n"
      ],
      "metadata": {
        "id": "uO3N1Kwawtyh"
      }
    },
    {
      "cell_type": "markdown",
      "source": [
        "### Complejidad Constante"
      ],
      "metadata": {
        "id": "ylaTp19CxxX7"
      }
    },
    {
      "cell_type": "code",
      "source": [
        "def constant_algorithm(n):\n",
        "  result = n[0] * n[0]\n",
        "  print(result)\n",
        "\n",
        "constant_algorithm([4,5,6,8])\n"
      ],
      "metadata": {
        "colab": {
          "base_uri": "https://localhost:8080/"
        },
        "id": "KwPV_jPGwyvA",
        "outputId": "95140be7-c0df-4e2c-a34d-9861c919f6e2"
      },
      "execution_count": null,
      "outputs": [
        {
          "output_type": "stream",
          "name": "stdout",
          "text": [
            "16\n"
          ]
        }
      ]
    },
    {
      "cell_type": "markdown",
      "source": [
        "Se dice que la complejidad de un algoritmo es constante si los pasos necesarios para completar la ejecución de un algoritmo permanecen constantes, independientemente del número de entradas. La complejidad constante se denota por O(c), donde c puede ser cualquier número constante."
      ],
      "metadata": {
        "id": "JngkcDxCxoN8"
      }
    },
    {
      "cell_type": "code",
      "source": [
        "steps = []\n",
        "def constant(n):\n",
        "    return 1\n",
        "\n",
        "for i in range(1, 100):\n",
        "    steps.append(constant(i))\n",
        "plt.plot(steps)"
      ],
      "metadata": {
        "colab": {
          "base_uri": "https://localhost:8080/"
        },
        "id": "2nzzqtwgxdXJ",
        "outputId": "6d43130c-17f6-4ec1-d728-70752af02813"
      },
      "execution_count": null,
      "outputs": [
        {
          "output_type": "execute_result",
          "data": {
            "text/plain": [
              "[<matplotlib.lines.Line2D at 0x7f0c5d40ad50>]"
            ]
          },
          "metadata": {},
          "execution_count": 9
        },
        {
          "output_type": "display_data",
          "data": {
            "text/plain": [
              "<Figure size 432x288 with 1 Axes>"
            ],
            "image/png": "[encoded data removed]"
          },
          "metadata": {}
        }
      ]
    },
    {
      "cell_type": "code",
      "source": [],
      "metadata": {
        "id": "4Kgltp-Dxrpn"
      },
      "execution_count": null,
      "outputs": []
    },
    {
      "cell_type": "markdown",
      "source": [
        "#### Complejidad Linear"
      ],
      "metadata": {
        "id": "T-SimXkmx03T"
      }
    },
    {
      "cell_type": "markdown",
      "source": [
        "Se dice que la complejidad de un algoritmo es lineal si los pasos necesarios para completar la ejecución de un algoritmo aumentan o disminuyen linealmente con el número de entradas. La complejidad lineal se denomina O(n)."
      ],
      "metadata": {
        "id": "S71WjxNhx-nR"
      }
    },
    {
      "cell_type": "code",
      "source": [
        "def linear_algo(items):\n",
        "    for item in items:\n",
        "        print(item)\n",
        "\n",
        "linear_algo([4, 5, 6, 8])"
      ],
      "metadata": {
        "colab": {
          "base_uri": "https://localhost:8080/"
        },
        "id": "A509H4-Tyb4D",
        "outputId": "0d19aad5-31ba-4dbf-a09c-d9ea6bcf0534"
      },
      "execution_count": null,
      "outputs": [
        {
          "output_type": "stream",
          "name": "stdout",
          "text": [
            "4\n",
            "5\n",
            "6\n",
            "8\n"
          ]
        }
      ]
    },
    {
      "cell_type": "code",
      "source": [
        "steps = []\n",
        "def linear(n):\n",
        "    return n\n",
        "\n",
        "for i in range(1, 100):\n",
        "    steps.append(linear(i))\n",
        "\n",
        "plt.plot(steps)\n",
        "plt.xlabel('Inputs')\n",
        "plt.ylabel('Steps')"
      ],
      "metadata": {
        "colab": {
          "base_uri": "https://localhost:8080/"
        },
        "id": "lMxab4GJx980",
        "outputId": "eb047e4e-ed08-4338-85ef-d876dc51b90b"
      },
      "execution_count": null,
      "outputs": [
        {
          "output_type": "execute_result",
          "data": {
            "text/plain": [
              "Text(0, 0.5, 'Steps')"
            ]
          },
          "metadata": {},
          "execution_count": 11
        },
        {
          "output_type": "display_data",
          "data": {
            "text/plain": [
              "<Figure size 432x288 with 1 Axes>"
            ],
            "image/png": "[encoded data removed]"
          },
          "metadata": {}
        }
      ]
    },
    {
      "cell_type": "code",
      "source": [
        "def linear_algo(items):\n",
        "    for item in items:\n",
        "        print(item)\n",
        "\n",
        "    for item in items:\n",
        "        print(item)\n",
        "\n",
        "linear_algo([4, 5, 6, 8])"
      ],
      "metadata": {
        "colab": {
          "base_uri": "https://localhost:8080/"
        },
        "id": "1QkSpviYx5fJ",
        "outputId": "87451159-b702-44a3-ca71-bf7d59f24c98"
      },
      "execution_count": null,
      "outputs": [
        {
          "output_type": "stream",
          "name": "stdout",
          "text": [
            "4\n",
            "5\n",
            "6\n",
            "8\n",
            "4\n",
            "5\n",
            "6\n",
            "8\n"
          ]
        }
      ]
    },
    {
      "cell_type": "code",
      "source": [
        "steps = []\n",
        "def linear(n):\n",
        "    return 2*n\n",
        "\n",
        "for i in range(1, 100):\n",
        "    steps.append(linear(i))\n",
        "\n",
        "plt.plot(steps)\n",
        "plt.xlabel('Inputs')\n",
        "plt.ylabel('Steps')"
      ],
      "metadata": {
        "colab": {
          "base_uri": "https://localhost:8080/"
        },
        "id": "dLmpkqZ7y_40",
        "outputId": "72350e33-5aec-4dac-fedb-0aa7594481a8"
      },
      "execution_count": null,
      "outputs": [
        {
          "output_type": "execute_result",
          "data": {
            "text/plain": [
              "Text(0, 0.5, 'Steps')"
            ]
          },
          "metadata": {},
          "execution_count": 13
        },
        {
          "output_type": "display_data",
          "data": {
            "text/plain": [
              "<Figure size 432x288 with 1 Axes>"
            ],
            "image/png": "[encoded data removed]"
          },
          "metadata": {}
        }
      ]
    },
    {
      "cell_type": "markdown",
      "source": [
        "### Complejidad Cuadratica"
      ],
      "metadata": {
        "id": "P5cI7hG9zNYY"
      }
    },
    {
      "cell_type": "markdown",
      "source": [
        "Se dice que la complejidad de un algoritmo es cuadrática cuando los pasos necesarios para ejecutarlo son una función cuadrática del número de elementos de la entrada. La complejidad cuadrática se denomina O(n²):"
      ],
      "metadata": {
        "id": "tYZyUfoxzayj"
      }
    },
    {
      "cell_type": "code",
      "source": [
        "def quadratic_algorithm(items):\n",
        "    for item in items:\n",
        "        for item2 in items:\n",
        "            print(item, ' ' ,item2)\n",
        "\n",
        "quadratic_algorithm([4, 5, 6, 8])"
      ],
      "metadata": {
        "colab": {
          "base_uri": "https://localhost:8080/"
        },
        "id": "ErOyImPlzQQp",
        "outputId": "48f53875-de28-42e6-ac97-ebd1dfc187f2"
      },
      "execution_count": null,
      "outputs": [
        {
          "output_type": "stream",
          "name": "stdout",
          "text": [
            "4   4\n",
            "4   5\n",
            "4   6\n",
            "4   8\n",
            "5   4\n",
            "5   5\n",
            "5   6\n",
            "5   8\n",
            "6   4\n",
            "6   5\n",
            "6   6\n",
            "6   8\n",
            "8   4\n",
            "8   5\n",
            "8   6\n",
            "8   8\n"
          ]
        }
      ]
    },
    {
      "cell_type": "code",
      "source": [
        "steps = []\n",
        "def cuadratic(n):\n",
        "    return n*n\n",
        "\n",
        "for i in range(1, 100):\n",
        "    steps.append(cuadratic(i))\n",
        "\n",
        "plt.plot(steps)\n",
        "plt.xlabel('Inputs')\n",
        "plt.ylabel('Steps')"
      ],
      "metadata": {
        "colab": {
          "base_uri": "https://localhost:8080/",
          "height": 296
        },
        "id": "bgj5zHS52IH6",
        "outputId": "928894ef-0656-40ea-df95-76e97a061321"
      },
      "execution_count": null,
      "outputs": [
        {
          "output_type": "execute_result",
          "data": {
            "text/plain": [
              "Text(0, 0.5, 'Steps')"
            ]
          },
          "metadata": {},
          "execution_count": 15
        },
        {
          "output_type": "display_data",
          "data": {
            "text/plain": [
              "<Figure size 432x288 with 1 Axes>"
            ],
            "image/png": "[encoded data removed]"
          },
          "metadata": {}
        }
      ]
    },
    {
      "cell_type": "code",
      "source": [
        "def cubic_algorithm(items):\n",
        "    for item in items:\n",
        "        for item2 in items:\n",
        "            print(item, ' ' ,item2)\n",
        "            for item3 in items:\n",
        "              print(item, ' ', item3)\n",
        "\n",
        "cubic_algorithm([4, 5, 6, 8])"
      ],
      "metadata": {
        "colab": {
          "base_uri": "https://localhost:8080/"
        },
        "id": "as_jb-ySnVYB",
        "outputId": "91d671c3-1b91-4bd6-c49a-31e61a9a7a6d"
      },
      "execution_count": null,
      "outputs": [
        {
          "output_type": "stream",
          "name": "stdout",
          "text": [
            "4   4\n",
            "4   4\n",
            "4   5\n",
            "4   6\n",
            "4   8\n",
            "4   5\n",
            "4   4\n",
            "4   5\n",
            "4   6\n",
            "4   8\n",
            "4   6\n",
            "4   4\n",
            "4   5\n",
            "4   6\n",
            "4   8\n",
            "4   8\n",
            "4   4\n",
            "4   5\n",
            "4   6\n",
            "4   8\n",
            "5   4\n",
            "5   4\n",
            "5   5\n",
            "5   6\n",
            "5   8\n",
            "5   5\n",
            "5   4\n",
            "5   5\n",
            "5   6\n",
            "5   8\n",
            "5   6\n",
            "5   4\n",
            "5   5\n",
            "5   6\n",
            "5   8\n",
            "5   8\n",
            "5   4\n",
            "5   5\n",
            "5   6\n",
            "5   8\n",
            "6   4\n",
            "6   4\n",
            "6   5\n",
            "6   6\n",
            "6   8\n",
            "6   5\n",
            "6   4\n",
            "6   5\n",
            "6   6\n",
            "6   8\n",
            "6   6\n",
            "6   4\n",
            "6   5\n",
            "6   6\n",
            "6   8\n",
            "6   8\n",
            "6   4\n",
            "6   5\n",
            "6   6\n",
            "6   8\n",
            "8   4\n",
            "8   4\n",
            "8   5\n",
            "8   6\n",
            "8   8\n",
            "8   5\n",
            "8   4\n",
            "8   5\n",
            "8   6\n",
            "8   8\n",
            "8   6\n",
            "8   4\n",
            "8   5\n",
            "8   6\n",
            "8   8\n",
            "8   8\n",
            "8   4\n",
            "8   5\n",
            "8   6\n",
            "8   8\n"
          ]
        }
      ]
    },
    {
      "cell_type": "code",
      "source": [
        "steps = []\n",
        "def cuadratic(n):\n",
        "    return n*n*n\n",
        "\n",
        "for i in range(1, 40):\n",
        "    steps.append(cuadratic(i))\n",
        "\n",
        "plt.plot(steps)\n",
        "plt.xlabel('Inputs')\n",
        "plt.ylabel('Steps')"
      ],
      "metadata": {
        "colab": {
          "base_uri": "https://localhost:8080/",
          "height": 296
        },
        "id": "DsCGyEvPnwAM",
        "outputId": "22e27605-192e-4d6d-e718-1cc9e9329d92"
      },
      "execution_count": null,
      "outputs": [
        {
          "output_type": "execute_result",
          "data": {
            "text/plain": [
              "Text(0, 0.5, 'Steps')"
            ]
          },
          "metadata": {},
          "execution_count": 17
        },
        {
          "output_type": "display_data",
          "data": {
            "text/plain": [
              "<Figure size 432x288 with 1 Axes>"
            ],
            "image/png": "[encoded data removed]"
          },
          "metadata": {}
        }
      ]
    },
    {
      "cell_type": "markdown",
      "source": [
        "### Algoritmos de Fuerza Bruta"
      ],
      "metadata": {
        "id": "bTdv4x3BpC5K"
      }
    },
    {
      "cell_type": "markdown",
      "source": [
        "Los algoritmos de fuerza bruta son conocidos por su amplia aplicabilidad y simplicidad en la resolución de problemas complejos. La búsqueda, la coincidencia de cadenas y la multiplicación de matrices son algunos de los escenarios en los que se utilizan. Los algoritmos de fuerza bruta permiten resolver tareas computacionales individuales. No proporcionan algoritmos eficientes. Los algoritmos son lentos y poco eficaces."
      ],
      "metadata": {
        "id": "fuug--X-pHbO"
      }
    },
    {
      "cell_type": "code",
      "source": [],
      "metadata": {
        "id": "5qCNoJJipGLp"
      },
      "execution_count": null,
      "outputs": []
    },
    {
      "cell_type": "markdown",
      "source": [
        "#### Algoritmos divide y venceras\n",
        "Un algoritmo de \"divide y vencerás\" divide un problema complejo en problemas más pequeños y los resuelve. El problema más pequeño se seguirá dividiendo hasta que sea un problema conocido. El enfoque consiste en resolver recursivamente los subproblemas y fusionar las soluciones de los subproblemas.\n",
        "\n",
        "La recursión, quicksort, binarysearch, y la transformada rápida de Fourier son buenos ejemplos de algoritmos de divide y vencerás. La memoria se utiliza de forma eficiente con estos algoritmos."
      ],
      "metadata": {
        "id": "9dceU9DapgIE"
      }
    },
    {
      "cell_type": "code",
      "source": [],
      "metadata": {
        "id": "p2uKy6iGpjy2"
      },
      "execution_count": null,
      "outputs": []
    },
    {
      "cell_type": "markdown",
      "source": [
        "#### Algoritmos Backtracking\n",
        "Un algoritmo de backtracking resuelve un problema construyendo la solución de forma incremental. Se evalúan múltiples opciones, y el algoritmo elige ir al siguiente componente de la solución a través de la recursión. El backtracking puede ser de tipo cronológico o puede recorrer los caminos, dependiendo del problema que esté resolviendo."
      ],
      "metadata": {
        "id": "oSTq0ZsNqROJ"
      }
    },
    {
      "cell_type": "code",
      "source": [],
      "metadata": {
        "id": "po8IiBEJqVva"
      },
      "execution_count": null,
      "outputs": []
    },
    {
      "cell_type": "code",
      "source": [],
      "metadata": {
        "id": "sjBgWfk7uIQo"
      },
      "execution_count": null,
      "outputs": []
    },
    {
      "cell_type": "markdown",
      "source": [
        "#### Complejidad de Memoria"
      ],
      "metadata": {
        "id": "ErwqFu6luIhd"
      }
    },
    {
      "cell_type": "markdown",
      "source": [
        "**CPU Times:** el tiempo que realmente pasa la CPU ejecutando el código del método.\n",
        "\n",
        "**Wall Times:** el tiempo real transcurrido entre un par de eventos, por ejemplo, entre la entrada y la salida del método."
      ],
      "metadata": {
        "id": "JCkH6u8Zk039"
      }
    },
    {
      "cell_type": "code",
      "source": [
        "%time sqrts = [n ** (1/2) for n in range(100)]"
      ],
      "metadata": {
        "colab": {
          "base_uri": "https://localhost:8080/"
        },
        "id": "NCb1jZGbuJ0B",
        "outputId": "a54c55df-e646-4442-b9c6-1179404813a0"
      },
      "execution_count": null,
      "outputs": [
        {
          "output_type": "stream",
          "name": "stdout",
          "text": [
            "CPU times: user 58 µs, sys: 2 µs, total: 60 µs\n",
            "Wall time: 65.6 µs\n"
          ]
        }
      ]
    },
    {
      "cell_type": "code",
      "source": [
        "for i in range(5):\n",
        "    %time sqrts = [n ** (1/2) for n in range(10**i)]"
      ],
      "metadata": {
        "colab": {
          "base_uri": "https://localhost:8080/"
        },
        "id": "4KoqkbpzuXlS",
        "outputId": "9cf0ecfd-e2d3-4eb3-9374-bb177c0feb99"
      },
      "execution_count": null,
      "outputs": [
        {
          "output_type": "stream",
          "name": "stdout",
          "text": [
            "CPU times: user 15 µs, sys: 0 ns, total: 15 µs\n",
            "Wall time: 20 µs\n",
            "CPU times: user 17 µs, sys: 0 ns, total: 17 µs\n",
            "Wall time: 21.7 µs\n",
            "CPU times: user 54 µs, sys: 0 ns, total: 54 µs\n",
            "Wall time: 58.4 µs\n",
            "CPU times: user 344 µs, sys: 0 ns, total: 344 µs\n",
            "Wall time: 351 µs\n",
            "CPU times: user 1.2 ms, sys: 1.97 ms, total: 3.17 ms\n",
            "Wall time: 3.77 ms\n"
          ]
        }
      ]
    },
    {
      "cell_type": "code",
      "source": [
        "%%time\n",
        "for i in range(5):\n",
        "    sqrts = [n ** (1/2) for n in range(10**i)]"
      ],
      "metadata": {
        "colab": {
          "base_uri": "https://localhost:8080/"
        },
        "id": "kOm23oCCvMuo",
        "outputId": "9d4d3665-8988-45cb-a6d8-b4a892fcdf8a"
      },
      "execution_count": null,
      "outputs": [
        {
          "output_type": "stream",
          "name": "stdout",
          "text": [
            "CPU times: user 5.98 ms, sys: 2.66 ms, total: 8.63 ms\n",
            "Wall time: 8.74 ms\n"
          ]
        }
      ]
    },
    {
      "cell_type": "markdown",
      "source": [
        "IPython lo ejecutará 100000 veces y dividirá el tiempo total para obtener una medida más precisa, luego este proceso se repite 7 veces para calcular el tiempo medio y la varianza"
      ],
      "metadata": {
        "id": "F3QrtfRKlxB8"
      }
    },
    {
      "cell_type": "code",
      "source": [
        "%%timeit\n",
        "for i in range(5):\n",
        "    sqrts = [n ** (1/2) for n in range(10**i)]"
      ],
      "metadata": {
        "colab": {
          "base_uri": "https://localhost:8080/"
        },
        "id": "66ZFrns7lcDQ",
        "outputId": "05d8c9a7-e536-41e1-978d-aee4b5741f78"
      },
      "execution_count": null,
      "outputs": [
        {
          "output_type": "stream",
          "name": "stdout",
          "text": [
            "2.1 ms ± 71.2 µs per loop (mean ± std. dev. of 7 runs, 100 loops each)\n"
          ]
        }
      ]
    },
    {
      "cell_type": "code",
      "source": [
        "def bubble_sort(array):\n",
        "    n = len(array)\n",
        "\n",
        "    for i in range(n):\n",
        "        # Crear una bandera que permita a la función\n",
        "        # termine antes de tiempo si no queda nada que ordenar\n",
        "        already_sorted = True\n",
        "\n",
        "        # Comienza a evaluar cada elemento de la lista uno por uno,\n",
        "        # comparándolo con su valor adyacente.\n",
        "        # Con cada iteración, la porción del array que se mira\n",
        "        # se reduce porque los elementos restantes ya han sido ordenados.\n",
        "\n",
        "        for j in range(n - i - 1):\n",
        "            if array[j] > array[j + 1]:\n",
        "                # Si el elemento que estás mirando es mayor que su\n",
        "                # valor adyacente, entonces intercámbialos\n",
        "                array[j], array[j + 1] = array[j + 1], array[j]\n",
        "                # al intercambiar dos elementos, se establece la bandera `already_sorted` en `False`\n",
        "                already_sorted = False\n",
        "        if already_sorted:\n",
        "            break\n",
        "\n",
        "    return array"
      ],
      "metadata": {
        "id": "wy1ujKpAl5hU"
      },
      "execution_count": null,
      "outputs": []
    },
    {
      "cell_type": "code",
      "source": [
        "%%time\n",
        "print(bubble_sort([8, 2, 6, 4, 5]))"
      ],
      "metadata": {
        "colab": {
          "base_uri": "https://localhost:8080/"
        },
        "id": "bBiggXpzoyqQ",
        "outputId": "5c1c1088-cb29-4e60-f33a-792e6a071a54"
      },
      "execution_count": null,
      "outputs": [
        {
          "output_type": "stream",
          "name": "stdout",
          "text": [
            "[2, 4, 5, 6, 8]\n",
            "CPU times: user 1.36 ms, sys: 11 µs, total: 1.38 ms\n",
            "Wall time: 1.64 ms\n"
          ]
        }
      ]
    },
    {
      "cell_type": "markdown",
      "source": [
        "![asss.png](data:image/png;base64,iVBORw0KGgoAAAANSUhEUgAAAyAAAAMyCAIAAAAaDDKvAAAAAXNSR0IArs4c6QAAAARnQU1BAACxjwv8YQUAAAAJcEhZcwAADsMAAA7DAcdvqGQAAH6XSURBVHhe7d0JXJVl3vj///PMPDNPM8/MVFZq7vu+m7nlbu6ZpZmmlVvuaWpamqaVZpaZZpmAuKGCkhu4gIAom+KCCu4KCLKLbILs8//+PHe8HOxMDue6z30Ofd6v69VwrnPN6eJ4350P3Af8//4JAAAApQgsAAAAxQgsAAAAxQgsAAAAxQgsAAAAxQgsAAAAxQgsAAAAxQgsAAAAxQgsAAAAxQgsAAAAxQgsAAAAxQgsAAAAxQgsAAAAxQgsAAAAxQgsAAAAxQgsAAAAxQgsAAAAxQgsAAAAxQgsAAAAxQgsAAAAxawaWBkZGVFRUdcAWIWcbnLSaacfAMCKrBdY8h/6M2fO7N69ewcAq5DTTU46GgsArM96gRUdHb1nzx43Nzdvb29/e7B3714nJyfZsK+vrzZl2+TV1MHBwd3d/ejRo9qUDZNNylZlw7Jtbcq2yWEgB4McEnJgaFO2TU402bCcdHLqaSchAMBarBdYN27ccHV1PXz4cHx8fKY9OHv27ObNm/38/FJSUrQp23by5ElHR8eAgICMjAxtyobJJmWrsmHZtjZl2+QwkINBDgk5MLQp2yYnmpxuctLJqaedhAAAa7F2YPn6+trLBYtLly5t2bJFIuD+/fvalG07d+6ck5OT9EpRUZE2ZcNkk7JV2bBsW5uybXIYyMEgh4QcGNqUbZMTTU43AgsADEFgmUVg6YrA0huBBQAGIrDMIrB0RWDpjcACAAMRWGYRWLoisPRGYAGAgQgsswgsXRFYeiOwAMBABJZZBJauCCy9EVgAYCACyywCS1cElt4ILAAwEIFlFoGlKwJLbwQWABiIwDKLwNIVgaU3AgsADGTHgVVcXJyYmLhmzZrJkyePHj164cKFfn5+MqndbTHlgSV7i4mJWbdu3cSJE999990lS5YEBQUpjCE9Ais3N9fHx2fOnDkTJkz49NNPT58+XVhYqN1nGb0D6+zZs6tWrZJDLjk5WZuyjPLASktLc3Z2/uQR4eHhBQUF2iILEFgAYCB7DSx5mQ8LC2vevPlTTz3VuXPnN954o0aNGnXr1l27dq2qxlIbWLKrU6dOdevW7X//93+rVq0qO//rX/8qe169erWSV1OhPLDu3LmzbNmyypUr165du0WLFs8880yzZs327Nmj5PF1DazY2Njhw4c/8cQTI0eOvHLlijZrGeWBFRkZ+fLLL1epUqVVq1YvPESKVrpWW2QBAgsADGSvgSWv/XPnzq1UqdLKlSuzs7PlxS8kJERKq23btn5+ftoiy6gNrPj4eNnw888//+mnn5r+ckN3d3fplV69esnOtUWWURtYUoTy59WwYcPp06dLr9y7d0823KZNG0kWJYWhX2BJsC5cuFBq+y9/+cuwYcMuX76s3WEZ5YEln/6LL744a9YsKS05hkvI/pV8kUBgAYCB7DWwEhISRo8e3bhx45KXz6SkJHlZrV+//vbt200zFlIbWFFRUR9++OH48ePl1VRePkV0dPTEiRMlWTw8PLRFllEbWHFxce+//363bt2OHz9u2nB+fr487cnJyUq+5aZfYO3atatTp05Llizp3r27LQdWYGDgCy+8sHTp0tTUVG1KKQILAAxkr4ElD/Ldd99VqVJl06ZNphl5HX311VdfeumlixcvmmYspDawJFAkKYR8YJq5evWqNKIUjLzQmmYspDawgoODe/bsOWHChLS0NHm2JQelA0z7L/kULCEPpUdghYeH9+vXb968eadOnerbt68tB5aEYKNGjVavXi1Pb1ZW1r1791S9v82EwAIAA9lrYMlr/LVr13r16lW1atVJkyYtXrxYPq5Tp86qVauU5IVQG1gPk83n5uY6Ozs///zzU6dOVfKECLWBdfjw4ZYtW0qzTps27cknn/zv//7vP/zhD/379z9x4oRtBpbsKjMzc/r06UOGDDl9+nRMTIyUli0HlpwODRo0kC8JatWq9cc//vG//uu/5ACWJ0SOByXPMIEFAAay48CSFzxvb295TfrzAxUqVJg4cWJCQoKNB5bsPDs7e+vWrbVr1x48eHBERIR2h8XUBtaBAweaNGkiaTVy5Eh5nsPDwz/55JPKlSu/8847krbaIgsoD6zCwsIffvihR48eu3fvlge3/cCSh2rUqFGNGjXmzp0re16/fn379u2feuqpffv28SZ3ALB39hpY6enp33777fPPP//xxx8nJydnZmYeOXKkW7duHTp0CA4O1hZZRo/Akrq6c+fO999/Ly+rr7/+usK6EmoD6+DBg82aNevSpcuxY8dMM/IkT548uWHDhvv37zfNWEJtYMkT6+/v36dPny+++CI1NTU/Pz8yMlJuypMsaSjtZfn3hJQHlhzDssm0tLSSP6+bN282bdq0U6dO0dHRphlLEFgAYCB7DSzTS1GLFi0SEhJMM/Iq5e7uXqFChYULF5pmLKQ8sGSHcXFxixcvrlSp0pgxY+TFVbtDEbWBJb3SsWPHcePGpaSkaFP//OfSpUurV69e8r43S6gNLImVadOmNWnS5MMPP/zhgc8++6xRo0atWrWS4+HChQt5eXna0rJSHljyDDxafgMGDHjuueeUfNeNwAIAA9lrYMkrkLwO9e3bt+R9wfJytX///meffXbmzJmmGQupDSx5HZUWlLqqVq3a7NmzVf32y4epDawzZ84MHDiwf//+YWFhpgiQp3r+/Pn169fftWuXaY0l1AZWUlLSjBkz5E+/hKT2n/70pz//+c9PP/30hg0bsrKytKVlpTyw4uPj5RlITEws+fOSCuzSpYtkopIkIrAAwED2GlgxMTE9e/Zs1KhRRETEvXv3cnJy4uLili1bVqNGjXXr1mmLLKM2sDIzM3/88cdnnnlm3Lhxt2/fTvtFenq6kjfcCLWBlZ2dvXz5cslBeVZTUlLkT+3s2bOvvvpq165d5TnRFllAbWA9yvbfg/XFF1/IFwkLFiyQU0OeXjkY9uzZU6tWrbfeeqvk+7KWILAAwED2Gljy8r9t27YqVap06tRJCkBepyVc6tSpIwVw/fp1bZFl1AbW6dOnO3bsWKlSpYEDB773kFmzZh05ckRbZBm1gSVCQkJeeeUVeVbffPPNGTNmyP6rVq26atUqKVpthQX0DqzY2NhBgwaNGDHCZn+Tu3xtIDuUQ6JHjx4ffPDB22+/LV8e1K5dOygoiL8qBwDsnb0GlpCXeU9Pz+HDh9etW1cioH379l9++aWSH3AzURtY8mo6YcIE6b9SRo8evW/fPm2RZZQHVnFxsTwJn376aefOnRs0aNC/f/8dO3akp6drd1tG78BKSUn57LPPVqxYIaWlTVlGeWAJOVwXLVrUtm1bOYBbtmw5ceLEs2fP5ufna3dbhsACAAPZcWCVKCwszMnJ0W6oozawrEB5YJWQZ1jV399SQu/AUk6PwDKRJzYvL0/5nxqBBQAGKg+BpRMCS1cElt4ILAAwEIFlFoGlKwJLbwQWABiIwDKLwNIVgaU3AgsADERgmUVg6YrA0huBBQAGIrDMIrB0RWDpjcACAAMRWGYRWLoisPRGYAGAgQgsswgsXRFYeiOwAMBABJZZBJauCCy9EVgAYCACyywCS1cElt4ILAAwEIFlFoGlKwJLbwQWABjI2oG1Z88eeUG9ag+OHj3q7Ozs4eERERGhTdm2I0eOODg4HDp06MqVK9qUDZNNylZlw7Jtbcq2yWEgB4McEnJgaFO2TU40Od0ILAAwhPUCKykpycfHR16f1gOwCjnd5KSTU087CQEA1mK9wBLJycmnTp06DsAq5HSTk047/QAAVmTVwAIAAPg9ILAAAAAUI7AAAAAUI7AAAAAUI7AAAAAUI7AAAAAUI7AAAAAUI7AAAAAUI7AAAAAUI7AAAAAUI7AAAAAUI7AAAAAUI7AAAAAUI7AAAAAUI7AAAAAUI7AAAAAUI7AAAAAUI7AAAAAUI7AAAAAUI7AAAAAUI7AAAAAUI7AAAAAUI7AAAAAUI7AAAAAUI7AAAAAUI7AAAAAUI7AAAAAUI7AAAAAUI7AAAAAUI7AAAAAUI7AAAAAUI7AAAAAUI7AAAAAUI7AAAAAUI7AAAAAUI7AAAAAUI7AAAAAUI7AAAAAUI7AAAAAUI7AAAAAUI7AAAAAUI7AAAAAUI7AAAAAUI7AAAAAUI7AAAAAUI7AAAAAUI7AAAAAUI7AAAAAUI7AAAAAUI7AAAAAUI7AAAAAUI7AAAAAUs2pgZWdnJyQkxAKwCjnd5KTTTj8AgBVZL7DkP/QRERGenp7uAKxCTjc56WgsALA+6wVWTEzM/v37t7o67zy06WefzbY/tu3e4OC03t3VMeDIxmC/TbY/9rk7OTis3717d7CdkK06ODjs27dPu23bAgICJFk2bNgg1aJN2TZ/f3/ZsJx0sbGx2kkIALAW6wXWjRs3XF1d3Tw3+t90C0l0t/3hecJlwyYHqav7cTv+ecfN9se5oM1OjutPnjxZVFSkPek2TDYpW3Vycjp37pw2Zdvu378vjbVly5ZLly5pU7YtIyPD19dXTjo59bQpAIC1EFhmB4GlKwJLbwQWABiIwDI7CCxdEVh6I7AAwEAEltlBYOmKwNIbgQUABiKwzA4CS1cElt4ILAAwEIFldhBYuiKw9EZgAYCBCCyzg8DSFYGlNwILAAxEYJkdBJauCCy9EVgAYCACy+wgsHRFYOmNwAIAAxFYZgeBpSsCS28EFgAYyI4D63is66YjX4/5YOjg0b36Du0yYtKgz9bNPBq1vdSyMg/lgZWXsO2M3/Il84ZNGN3zneFd5kwduMv5g7SbzqWWlXnoEVjJyck7duyYPn362LFjZ82adeDAgaysLO0+y+gdWP7+/l9++aVsXj4FbcoyygMrLS3N2dl5wSPCw8MLCgq0RRYgsADAQPYaWAGxrg4eS9u+1Kxh89rDxvV/a8rgrv3b1W9aa8bnY1Q1ltrAKkzaEXL4i5e7N69Ts2K/ni1HD3updfOazRpXX/PluxnRm0otLttQHlhxcXHSKB07dhwyZMj48ePlA+Hu7p6Xl6etsICugXX16tVRo0ZVrFhxzJgx165d02Ytozywrl+/PnDgwK5du06bNm3uQ86fP5+fn68tsgCBBQAGstfA8rqy6d2Zr1d47slJH4/cferH/eccVm6b36pjk+YvNPxp3+elFpdtqA2suIh1c6e/UrP6s/M/GBJ29KurJ79b/+2EFk1q9OvV8pTPslKLyzbUBlZBQcGOHTvatWs3c+bMs2fPyh+f3OzVq9ecOXOU/OXB+gVWZmbmwoULO3ToUKFChWHDhl2+fFm7wzLKA+v06dPt27efOHGiPA+RD7l3715xcbG2yAIEFgAYyF4D60C408ARParVrux08EvTzL6w9W+M71+zftVlG+aULLNkqA2spMsOzmsmfb14VOSZ700zUWFr33u75wut6hx0+6hkmSVDbWDFxMRMnTq1Z8+ex48fNz2ghEtYWFhERIQUgGmNJXQKLEmTrVu39unT59NPP+3UqZMtB5bUT6tWrb788svU1FRtSikCCwAMZK+B5XfTZe6K9ypUfGre1xNNM9uPrerYs3XL9o1dA1aXLLNkqA2s/MTtd645JV91LEzSHu1i0Mrhr3bs1bXZCa8vSpZZMtQGljzOyy+/PG7cuOjo6KCgICkhT0/PxMRE7W6L6RRYJ06cGDx48MKFC+XB+/bta8uBtXv37saNG3/33XeyQykhHx+f27dvK3n3lQmBBQAGstfACorf6X7yh6Fj+9VpXP3l1zq/9m6fdl2bt+3c9AuHWcdjXEstLttQ/ib3h0d65MY1X75br3alee8Plo9L3Vu2oTawvL29W7du3atXrylTprRt27b+AwMHDpR5JY+vR2DFxsZOnTr1nXfeOXv2rHRhv379bDmwtm3bJk9pmzZtOnTo0OgB+WDVqlV3797VVliGwAIAA9lrYAUnuB++vPG9eW9WeO7J2g2rt+rY5NnKT7fu1OQ714XBCbtKLS7b0C+w7lxz+mHF2KaNqr05pGNE4MriFNdSC8o21AaWh4eHvOTXqFHjww8/9PLyCgwMXLZsWZMmTUaOHBkREaEtsoDywMrPz1+9evWAAQN2796dm5sbExNj44G1adOmOnXqdOvWbe3atYcOHdq1a9drr71Wt25deU6U/KgmgQUABrLjN7m/N/fN+k1rTfp4pMvRb3cErF6145NBI3q069pizc5FpRaXbegUWHER65bOHy51NWZEt/CAbwoSt5daUOahNrAOHjzYtGnT7t27Hzt2rKCgoLi4OCUlZdy4cQ0bNty/f7+2yALKA+vAgQODBg367rvv0tLS5KbtB1ZycrJ87levXpUSkmdYolAeuXHjxpJct27d0hZZgMACAAPZa2C5n/yhXpMaDZrX9jjvEJzw/76hdTzGdcmPMyo89+SED4eXWly2oUdgRYWtnT11YIO6z894r9+N06sLkpTVlQy1geXv79+xY8e33347Pj7eNCONtWzZslq1aklkmGYsoTawJKpmzpxZrVo1aawpU6ZMnTp19OjRcrNOnTojR46URpQ80paWlfLAelRhYeErr7xSuXLlK1euaFMWILAAwED2GlhuQWuerfx0yw6Ng+J3mmaksb7e+vE/nvrbyMmvlCyzZCgPrOhzaz+YPKBR/Sqffjg04eJPRcmKrzyqDawLFy68/vrrffv2PXPmjGlGAmv+/Pn169f/+eefTTOWUBtY6enpjo6O77777nvvvTf5gREjRlStWrV27dpvvvmmxKINBpbUjwTrw99gk8Dq3LlzixYtbt68qU1ZgMACAAPZa2DtPfNTm85Na9Sr4uz1lWnmYMSGMbOGVqzyzOxl40uWWTLUBtbdGxu+/eLtOjUrfjTj1bs3nFW97+rhoTawsrOz5eX/2Wef/eSTT+7cuSMzoaGhffr06dWrV3BwsGmNJdQGljya9ETSQ86ePdujR49XXnklMDBQPhfLnxPlgfXDDz80bNhw9uzZpt8rJv0qDy5ROGbMGCU/rUlgAYCB7DWwjt3avnzjh09W+HuNelX7vN5l0Mie7bq2ePrZJ7v1f3F/mEOpxWUbagMr1Htpmxa1/vbX/32hVZ1X+79QMka/8dI+lw9LLS7bUBtY8np/8eLFESNGPPPMM927d3/ttdeaNWtWrVq1NWvW2PLvwSph++/BioyMHDx4cIUKFVq0aCFP78svv/z88883atRI+pW/KgcA7J29BlZwwq6jkducDn45deGofm907dCj9aipg79wmLUvzKHkoqGFQ21gxZz/4Yevxn75yYgVn771zZJRJUMmT9vkb3IX8jJ/8+bN7du3v//++6NHj/7000/9/PzkZVvaS1thAb0DS/Ypx9vu3btTUlK0KcsoD6zCwkKpQBcXl+nTp0tpTZ48ee3atZKDeXl5Sp5hAgsADGSvgSVDGiswzk0y68i1zV6XN/ne2Ho8Zoeq39EgQ21gFSbtyIndei9mS6mRHbslP2FbqcVlG8oDS8hD5ebmykt1WlpaVlZWfn6+ktd+oXdgyeNLEsnmVT0bygNLlDy9d+/elX/m5OTIjKpnmMACAAPZcWDpPZS/yV3voUdg6Uc2qWtgKadHYOmKwAIAAxFYZgeBpSsCS28EFgAYiMAyOwgsXRFYeiOwAMBABJbZQWDpisDSG4EFAAYisMwOAktXBJbeCCwAMBCBZXYQWLoisPRGYAGAgQgss4PA0hWBpTcCCwAMRGCZHQSWrggsvRFYAGAgAsvsILB0RWDpjcACAAMRWGYHgaUrAktvBBYAGMjagbVjn7PPxR3Hotxsf+w7vsVpo4PfIefUm9uzYnbY/jjpv8nRcX1gYGBmZmaWzZNNylYdHR0ls7Qp25aamurn57d58+awsDBtyrYlJCR4eXkRWABgCOsFVnR09P79+7eoJi94Qrthb+x687ALctLJqaedhAAAa7FeYIns7OzExMTbSt26dev69evaDbsSExMTGRkpL37abUA1Od3kpNNOPwCAFVk1sJQrLCy8c+fOlStXiouLtSn7kZWVJXUl+9duAwCA8sK+A+v+/fvh4eFBQUEFBQXalJ2QIkxKSjpx4kRkZKQ91iEAAPg37DiwpEsyMjL8/f39/PxSU1O1WTtRWFh48+ZNDw+P8+fP210dAgCAf8+OA0saJT4+fv/+/YcPH7569ap9fR8oKyvr7NmzsvmgoCC7q0MAAPDv2XFg5ebmXrhwQRpFhISE2NH3gaQFk5OTjx49Kjv39vaOjo7mKiEAAOWJvQaWFElWVpapUYR8YEffByosLIyMjPTw8DBtXjIxPz9fuw8AANg/ew2soqKipKQkU6AILy+v69eva/fZvOzs7PPnz2tbf/Dtt7S0NO0+AABg/+w1sPLy8iIiIrRC2b/fw8MjNDTULq4SFhcXp6Sk+Pv7a1vfv//IkSMxMTFcJQQAoNywy8CSFrl3797DjSKOHTt29+5dbYUNKywsjIqK8vT01Pb9gMQiP0sIAEC5YZeBVer6oImXl5dd/J1rpa4Pmpw8eTIjI0NbAQAA7JxdBlZeXl54eLjWJr/w8PA4ffq0jX8f6NHrgyY+Pj6xsbFcJQQAoHywv8CSCsnOzn60UcTx48dt/N3ihYWF0dHRJT8/WEJmLl26xFVCAADKB/sLrKKiosTERC1M/pW3t3dkZKS2zib96vVBk9DQUK4SAgBQPthfYP3q9UETT0/PsLCwwsJCbamNMV0fLPndXaX4+vrGxcVpSwEAgD2zs8CSRsnJyTHXKCIgICA9PV1bbWPMXR80kTq8cuUKVwkBACgH7CywioqKkpOTtST5NUeOHJGI0VbbmOzs7JK/2+dXnTp1KjMzU1sNAADslv0FVmpqasQvzp8/f/ToUW9vb+12RMTly5eTkpK01Tbm/v37En/aRiMigoODJaqOHTum3Y6IiIqKunfvnrYaAADYLfu7RCgks0yys7PPnj0bGBio3f6FttrGPLxzERkZKYEVHh6u3X5A1mirAQCA3bK/N7k/LCcnJywsTAJLu21XoqKiJLAiIiK02wAAoLwgsAxDYAEAUF4RWIYhsAAAKK8ILMMQWAAAlFcElmEILAAAyisCyzAEFgAA5RWBZRgCCwCA8orAMgyBBQBAeUVgGYbAAgCgvCKwDENgAQBQXhFYhiGwAAAorwgswxBYAACUVwSWYQgsAADKKwLLMAQWAADlFYFlGAILAIDyisAyDIEFAEB5RWAZhsACAKC8Kg+B5eXlJf+0OwEBAQQWAADlUnkILMmUA3bIw8ODwAIAoFyy78AqKirKzc29Z8/y8vK0TwYAAJQX9h1YAAAANojAAgAAUIzAAgAAUIzAAgAAUIzAAgAAUIzAAgAAUIzAAgAAUIzAAgAAUIzAAgAAUIzAAgAAUIzAAgAAUIzAAgAAUIzAAgAAUIzAAgAAUMyqgZWXl5eRkZEGwCrkdJOTTjv9AABWZL3Akv/QX7hwYdu2besBWIWcbnLS0VgAYH3WC6wbN264urpu3LjRzc3N3R64uLg4ODg4bXTYtN1p8w47GBs2Ochr6pZNDrtcHd1dnWx8yCZlq7LhrVu3as+4bdu5c+emTZvkkJADQ5uybXKiyekmJ52cetpJCACwFmsHlq+vb0ZGhjZl2y5durRlyxZ3r00BMTtDEt1tf+wL2OLguP6k/6aiFNd/3nGz8SGblK06OTmdO3dOe8Zt2/379wMCAuSQkANDm7JtcqLJ6UZgAYAhCCyzCCxdB4GlNwILAAxEYJlFYOk6CCy9EVgAYCACyywCS9dBYOmNwAIAAxFYZhFYug4CS28EFgAYiMAyi8DSdRBYeiOwAMBABJZZBJaug8DSG4EFAAYisMwisHQdBJbeCCwAMBCBZRaBpesgsPRGYAGAgew+sIqKijIzMxMTE+X1r7i4WJtVQY/ACk7YFXDbzfvq5kMXnY/HuJa618KhU2AVJbvei9l898aGnNtbi9U9MoGlNwILAAxkx4GVm5sbFhYmr9BLly6dO3fuqlWr3N3db968qd1tMeWB5X1t8/fuiz/8asL4OW+8/f5rs5aOXbNzkdeVTaWWlXnoEVixF3503zhrxadvLfrw9W+/eNvn509Sr28otaZsQ9fAktQODg7esGHDkSNH0tLStFnLKA+srKwsT0/PB39n4L+QY7igoEBbZAECCwAMZK+BJa9A4eHhr7/+eu3atQcNGjRixIiXXnqpQYMGixYtunPnjrbIMmoD62jUtq82z2vVsUmT1vX6Du3S/41urTo0btm+0adrp/vc2FpqcdmG8sCKi/hp2SdvdnqxwcCXW494rWP7tvW6dWzsvvGDnNitpVaWYegaWFevXpVj409/+tOwYcMuX76szVpGeWBduXKla9eujRs3HjJkyMiHnDhxQslfz0xgAYCB7DWw0tPTv/nmm2eeeWbmzJnyQpWYmLh///4OHTq0adPGz89PW2QZtYG1+9SPr47uXb3O8/NXTfa6sunItS3LN85t3Lpex16tNx35utTisg21gZWXsG3b+ukvtqk7c1L/iMBvEi+t37tlzug3unz/5Zg715xKLS7D0C+wUlJSFixY0KVLl+eee86WAys0NLR9+/bTp0+XLxWSH6LqYjeBBQAGsuPAcnZ2njdvXkREhGkmLi5u9uzZ9evX37Ztm2nGQmoDyy1oTc/BHZu2rb/h0JemmR0B3/Ue0rl5u4Zr3ReXLLNkqA2smPM/TB7Tu8dLTYMOfmaayY7dcilo5dUTq3Ju2+53sPLz8+VPrW/fvp999lnnzp1tObDkXGjVqtXnn3+u6nuupRBYAGAgew2soqKirKystLQ0+cA0c+vWrUmTJskrlo+Pj2nGQmoD69BF53Fz3qhSs9K8rycejdx2PGbHym3zm7Su3/OVjj+H/lhqcdmG2sAKOvR5j5eajH2re+iRpTudP3BY9d7G7yefP7aiIHF7qZVlGzoFVnBw8NChQz/55JOQkJB+/frZcmD9/PPPjRs3/uabb/bv379582b5gsHPzy8zM1PVz2oQWABgIDt+k/vD5DE3bdrUsmXLCRMmJCUlabOWURtYgXFuzl5f9RvWtUPPVm9PHzJ21rDeQzp37f/icucPA2+7lVpctqE2sLzdF7RuXqtnl6bTxvcZ1Kf1q/1faN285uuDXvTbuyg33qXU4jIMPQIrKipq8uTJY8eOPX/+vAS3jQfW9u3b69ev37t3744dO7744ov16tV76aWXVqxYkZKSwiVCALB35SGw7t69K1/9d+vWbfDgwcHBwdqsxVQH1s4dAd8NHdevQfPaPV/p8PJrnVu82KjHoA6rdy46HrOj1OKyDbWBdWDHvCYNq9au8dzkd3vvcHzfZ/cnX8wf3rRhtVFDO18K/rbU4jIM5YGVlZW1atWqIUOG7N+/Py8vLyYmxsYDy8vLa9QDCxculOfhm2++ef311+vWrfvTTz9lZmZqiyxAYAGAgew7sOQL/cTExC+//LJDhw7Dhw8/fvx4yRVDy6kNrL1nfnpryuBGLetO/WTUNv9VEltfOMzq0veF7oPaO3stL7W4bENtYB1y+7h54+q9ujY74fWF6ddfpVxzmvRuryYNqu53+fDhlWUbagNLjgRPT89XX331u+++S01NlRnbDyw5dE+fPn39+nV5ZNm/HLoXLlxo2rRp9+7db926pS2yAIEFAAay48CS16SEhIT58+fLa9LkyZPPnDmjsK6E2sBat+/zarWf7zbgRc9wJ9PMsVs7Zix59/nqz835cnzJMkuG2sA6undRh7b1Rg7tHHP+h5LJpQverF+n0g6H90tmyjzUBpYcVLNmzapVq5bpG0JixowZderUady48ZQpU06cOJGbm6stLSvlgfUoOaT79OlTu3bta9euaVMWILAAwEB2HFjJycnz5s1r0qTJokWL5AVJXpy0OxRRG1hrf1787PMV+g7tEhSvPVpwwq4Pl094rnKFmZ+PKVlmyVAbWBeDVg4f0qFPjxanfJaZZgoSt8//YEjj+lV2b55dsqzMQ3lg7dixY86cOR999NHHD0ydOlVKpWHDhu+9915wcLANBtahQ4e++uorebSSLwzu3bvXpUuXFi1aKPl9uQQWABjIXgMrKyvL0dGxTp0606dPT0hI0GaVUhtYm32+btWhcdM29dd7LJW0kuEW/H2/N7rVaVh9mdOcUovLNtQGVtatTV8tGlmnZsV57w+OOvt9YdIO3z0LX2rfcODLrU/7fllqcRmG2sAqLCxMT09PfMjZs2d79OgxaNAgqaLs7GzLv7upPLDWrl0r/Tdp0qTw8PD8/PzMzMzVq1dXqlRp5syZKSkp2iILEFgAYCB7Daxbt27Jy+df/vIX+Yp//EOkt3bu3KktsozawPK+unne1xPrN63ZumOTNyYMGDFpUJe+7eo0qj5q2qt7z/xUanHZhtrAKk5xDQ/4+t0RXRvXr/LawHYT3+nVqV2DF1rV2bR2ckbUplKLyzDUBtajbP89WLKxsWPHyhcJffr0ee+990aPHl2zZs2BAweeOHFCektbZAECCwAMZK+BdffuXQcHh68esWrVKtv8Te7BCbsORmxYvnHutEWjx84eNuaD1ycveGvxD+/vDPle7iq1uGxDbWDJKEjcHhH4jeN3Ez/76I1PZr/25cIR+7fNTb7iqOSvfNY7sOQw27Vr1969e1X9Gk/lgVVUVBQeHi7PwJIlSz766KNPP/1Ujt7Q0FD5F2krLENgAYCB7DWw5MXp3r17mY/Iysqy/N02JmoDyzQC49x8b2w9EO7kcd7xyLUtAbGupRZYMpQHlgxpqdw4l9TrG5KuOGREbcxX9FtGZegdWHKE5DxQWFioTVlGeWCZyMPKVwsJCQkSgkouZZYgsADAQHb8Jne96RFYug49Aku/oXdgKadTYOmHwAIAAxFYZhFYug4CS28EFgAYiMAyi8DSdRBYeiOwAMBABJZZBJaug8DSG4EFAAYisMwisHQdBJbeCCwAMBCBZRaBpesgsPRGYAGAgQgsswgsXQeBpTcCCwAMRGCZRWDpOggsvRFYAGAgAsssAkvXQWDpjcACAAMRWGYRWLoOAktvBBYAGMjageXi4uLp6ellD9zd3R0dHZ23Om7f47xj30bbH5u2O61fv951m+Ph/Ru8bH7IJmWrsuGdO3dqz7htO3jw4Pbt2+WQkANDm7JtcqLJ6UZgAYAhrBdY9+7dO3369NatW+Ulyi44ODjIy7+Q/7WLsf7BfuUfjo72MUzPrzzP2jNu80yHhB1tWE43Oenk1NNOQgCAtVgvsIqLi7OysuLi4mJ+365fv37p0iXthp2QPQvtBuyHnG5y0smpp52EAABrsV5gCfkPfdHvW15e3u3btyVWtNv2oLCw8MYD8oE2BftBXQGAIawaWMjMzDzzQEFBgTZl83JycsIekA+0KQAA8G8RWFaVnJx85MiRgICA1NRUbcrmJSUlHX9APtCmAADAv0VgWU9BQUFUVNT+/fulsSIjI7VZm3fz5s0DD8gH2hQAAPi3CCzrycrKOn36tASWCAsLKyoq0u6wYffv3z9//rxpz/KB3NTuAAAA5hFYVlJcXJycnOzt7W2KlaCgoLS0NO0+GyZ7DggIMO1ZPpCb2h0AAMA8AstKCgsLo6OjTaUifHx8YmJibPwnvGR7UVFRBw8eNO1ZPpCb/FQaAAC/icCyknv37p05c8ZUKibnz5+38auEubm54eHh2nYfkJsyqd0NAADMILCsobi4ODU11c/PT+uUB4KDg238KuGdO3eCgoK07T4gN2VSuxsAAJhBYFlDYWHhrVu3tEj5ha+vb2xsrM1ecZONRUdHl1wfNJGbMslVQgAA/j0CyxoevT5oEh4ebrNXCfPy8i5duqRt9CEyKXdpiwAAwK8hsHRnuj7o6+urFcpDTp48mZmZqa2zMbLn4OBgbaMPkUk7+i2pAAAYgsDSXUFBwaPXB038/Pxu376trbMlEoWxsbGHDx/WNvoQmbTlK5sAANgCAkt35q4PCk9Pz4sXL9rgVcL8/PzLly9ru3yE3CULtKUAAOARBJa+iouL7969+6vXB01CQ0OzsrK01TYjLS0tJCRE2+Ij5C67+C2pAAAYhcDSV2FhYVxc3EHzjh8/Hh8fr622DRKFCQkJfn5+2hYfIXfJAq4SAgBgDoGlr/z8fOmnC784d+5cSEjIiRMntNsXLly8eDElJUVbbRuknO7cuaPt78KFs2fPBj8gH2hTFy7IAgILAABzCCyryszMDA0NlVLRbtsD068b5VeMAgDw+AgsqyKwAAD4PSCwrIrAAgDg94DAsioCCwCA3wMCy6oILAAAfg8ILKsisAAA+D0gsKyKwAIA4PeAwLIqAgsAgN8DAsuqCCwAAH4PCCyrIrAAAPg9ILCsisACAOD3gMCyKgILAIDfAwLLqggsAAB+DwgsqyKwAAD4PSCwrIrAAgDg94DAsioCCwCA3wMCy6oILAAAfg8ILKsisAAA+D0gsKzKFFh+fn7h9uPUqVPe3t4EFgAAj4/AsipTYO23QwQWAACPj8Cyqry8vOTk5Gg7lJiYeP/+fe3TAAAA/xaBBQAAoBiBBQAAoBiBBQAAoBiBBQAAoBiBBQAAoBiBBQAAoBiBBQAAoBiBBQAAoBiBBQAAoBiBBQAAoBiBBQAAoBiBBQAAoBiBBQAAoBiBBQAAoBiBBQAAoJj1AquoqCgyMnLPnj1bAFiFnG5y0mlnIADAiqwXWPIfend390OHDkVHR6fYg9DQ0E2bNh05ciQuLk6bsm1BQUGOjo47D230veLqd9XWh2xSturouD7Id2PK9e22P+IuuxzxdJZDQg4M7Rm3bXKiyekmJx2NBQDWZ73AunHjhqurq4+PT3p6erE9uHjx4pYtWwICAnJycrQp2xYWFiaBtdtvc1D8ruAEWx+ySdmqBFZY4ObiFFfbHzlxOwKObJRDQg4M7Rm3bXKiyekmJ52cetpJCACwFmsHlq+vb0ZGhjZl2y5dumQKrPv372tTtu3cuXNOTk57/DZLvoQkutv4kE3KVp0c158L2vzPO262P+7/ElhyYGjPuG2TE01ONwILAAxBYJlFYOk6CCy9EVgAYCACyywCS9dBYOmNwAIAAxFYZhFYug4CS28EFgAYiMAyi8DSdRBYeiOwAMBABJZZBJaug8DSG4EFAAYisMwisHQdBJbeCCwAMBCBZRaBpesgsPRGYAGAgew7sIqLi3Nzc+/cuZOQkJCenp6fn6/doYIegSUbLigokK0mJSWlpaWp3bAegRUYt9PvpsuBiA0y/CJdguJ3llpQ5qF3YBUkbb9/e2tuvEtRsmupu8o2lAdWUVGRHL3Zj5AjRI4TbZEFCCwAMJAdB5bUSXR09M6dO19//fUmTZrMmTPHz88vNTVVu9tiygNLXjUzMzOPHz8+c+bMrl27Tp061d/fX2Fuqg0seRDfG1udDy+fsuCtFu0byZix5N3tx1f5R28vtbJsQ9fAKkzacf7Yiq0/TvXeteDuDedS95ZtKA8sORg8PDzWPULOFGksbZEFCCwAMJC9BlZhYWF4eHjPnj2feuqpevXqNWjQoHr16pUqVZJ2uXfvnrbIMsoDKz09fc2aNVWqVKlTp45suFq1arLzVatW5eTkaCssozawJKTmrZhYqeqzz1Z6umGLOjKeqfhUsxcarNg873jMjlKLyzB0Daybp9cM6tvmv//7v4a90v5yyLel7i3bUB5YN2/e7N69+9NPP206HkocOnQoNzdXW2QBAgsADGSvgXX37t3FixdXqFBB/pmVlZWfn3/y5MlevXq1aNHi8OHD2iLLqA0sKULZWJMmTUaNGpWUlFRQUBASEjJixIhx48ZJKWqLLKM2sDb7fP1Snxeatqn/3Y5PguJ3BsXt/NL5w3pNavYY1GGb/7elFpdh6BdYGVEbP5g0oFH9Kv/42xO2HFgnTpx48cUXP/roo7i4ODkeShQVFXGJEADsnb0GVnJy8uzZs1977bXIyEjTjFTLwoUL69Wr5+LiYpqxkNrAMm2vVatWR44cMc1IckkaKnzrmNrAcjr4ZbtuLXq/2nn3qXWmGdfA1V37v9i+e8sNh5aXLCvz0Cmw7se5bFg9qXvnJiuXjOrVtZktB9bx48fbtm27bNkyhde1H0ZgAYCB7DWw5Et8+UJfGqXkppTWmDFjpGDkX2GatJDawJJHGzx4cJ8+fSIiIk6fPh0aGnrq1KmrV6+quqAp1AbW/jCH4RMGNGxZZ+GaaaY3uS9YNaVh89pvTRl8INyp1OIyDD0CqzjFNfDgZ4P6tPnsozdO+37Zr2dLWw6sXbt2NWrUaMmSJSdOnJBDQoSFhd29e1cObG2FZQgsADCQHb/JvYTpzeObNm2qVauWNFZ6erp2h2XUBpa8fHbo0KF169Yffvhh27ZtX3zxxfr163ft2nX37t3Z2dnaIsuoDayg+J3fbP24WdsGdRvXGDn5FRnyQcsOjb9z/UTJ4+sRWAmX1k8e03v0Gy9dOP51zPkfbTyw5HRo0KDBCy+8IAeDHBKNGzeuVq3aihUr7ty5wyVCALB3dh9Y8lIkRbV58+YWLVq8+uqrJ06c0O6wmPLAat++/f/93/+99tprR48ejY+Plz03atSod+/eJ0+e1BZZRvmb3F2D1kxe8FarDk2avdBARtuXmk1bNNo1aLWSHyRUHliZUZu+WTJ6UN82h9w+Lkp2tf3A8vT0HDp0aKdOnZYvXy7HrZwd/fr1e/LJJ7dv367k5x4ILAAwkH0HVlFRUVJS0po1axo0aDB8+HCJGO0OFdQG1pkzZ+SltFWrVt7e3qYZedivv/66Xr16UkWmGQupDSyXo9/2GtypSet6S51mH7m25ci1zcs3fiiZ1evVTi629yb3wqQd+7fN7dW12TefjU69vuH+7a3XTn73crfmrw1sd87/q4LE7cUplv42LOWBJQdAampqVlZWyZXuqKio1q1by3EiH5hmLEFgAYCB7DiwpK7i4+M/++yzypUrv/fee8pfRdQGVnh4eP/+/V9++eXY2Fht6p//3Lx5c926dVesWKHdtozawPrspw8qVnlm2Pj+R65vMc0E3nYbOfmV52tUXOY0p2RZmYfawEqP3Dh1XJ/mjasvmvP6prWTZXy95K2mDau90KrOlwtHXA75Nj9hW6n/y386lAfWr+rXr1/VqlWvXr2q3bYAgQUABrLjN7mnpKQsWbLk+eefnzt3blpamnaHOmoDKzo6etKkSS1atDh48KBpJi8vb82aNbVr1167dq1pxkJqA+uT76Y+U/Gp8R8OD4rTfnt7YJzb29OHSHUtWTezZFmZh9rAuntjw3dL3xnwcuuS0bNL02cr/L1yxSe7dWrssX1eTuzWUv+X/3QoDyx5HDkYIiMjC375taJyGLdv314Okps3b5pmLEFgAYCB7DWw7t27t3Hjxr/97W9DhgyRR779i7i4ONt8k7s8iHz6derUGTNmjJRQUlKSv7//0KFDO3bs6OPjoy2yjNrA+nHPkmYvNOj8cpsNh748GrlNhuOBZR17tW7dscn6/V+UWlyGoTawilNcCxK358a5lIwbp1a/3L356wPbXTi2ojBphw1eIly9enW1atUmTpwoJ0V8fPy1a9ckteULhunTpycnJ2uLLEBgAYCB7DWwoqOjO3fu/Pe//33w4MGzHvLxxx/v379fW2QZtYEl5BmYMWNGo0aN+vfvv2DBgh49ejRs2PC7775T8oQItYF1INzp/SXv1G5YvX2PVrOWjZPRoWfruk1qzlo67tAl51KLyzDUBtajw/bf5B4RETF58uQqVaq0bdt27ty5o0ePrlWrVs+ePeXPseRdWZYgsADAQPYaWImJiZJTbz1i/Pjx27Zt0xZZRnlgFRcXx8TESFGNHDnyzTfffOeddzZu3JiZmandbTG1gSXj8OWNC9dM6zesa69XO8kY+Gb3z9bN9L66udSysg29A+vONacVn761Ztm7cRHrSt1VtqHHe7DkeFi6dKkct8OHDx8xYoT09+XLl5XUlSCwAMBAdvwerCLztEWWUR5YJrLz/Px8ecyCggL5WJtVQXlgyZCHCrzt5h+9XYZ8oPaRdQ2s4hS3omRXGZZfHDQNnd7kbjoecnJy8vLy5NBVeEgQWABgIHsNLCvQKbD0o0dg6Tf0DizlQ6fA0g+BBQAGIrDMIrB0HQSW3ggsADAQgWUWgaXrILD0RmABgIEILLMILF0HgaU3AgsADERgmUVg6ToILL0RWABgIALLLAJL10Fg6Y3AAgADEVhmEVi6DgJLbwQWABiIwDKLwNJ1EFh6I7AAwEAEllkElq6DwNIbgQUABiKwzCKwdB0Elt4ILAAwkLUDy83N7dixYyfswYEDBzZs2ODu7h4YGKhN2bb9+/c7ODhsdXP62Wfzbl9bH7JJ2aqDw/r9P284cXST7Y9An43urk5ySMiBoT3jtk1ONDndCCwAMIT1AistLS0oKGjLli2Ojo5O9kBiZf369fJP7bbNM214vcN6B0f7GLLVB8/weidH+xjaE2wnh4ScaHK6yUknp552EgIArMV6gVVUVJSenh4ZGXkVdujMmTNnz57Vbtg82e358+e1G79jcrrJSafqrz8HADw+6wUW7FpMTIy8Wufl5Wm3bZj0hLRFQkJCcXGxNgUAgHURWPhtBQUFFy9ePHny5N27d7UpG5aRkRESEhIREWEvP50AACh/CCz8tvT0dKkrLy+vmJgYbcqGxcbG+vn58d4jAICBCCz8ttu3b/v6+u7fv//ixYs2fpWwuLhYNunp6Xno0KH4+HiuEgIADEFg4TcUFhZeuXJFkkUCKyQkxMavEmZlZZ08eVK2Ki5fvpybm6vdAQCAFRFY+A0ZGRmnTp0yJcvhw4dt/CphXFzc0aNHTbuVHExPT9fuAADAiggs/Ib4+Hg/Pz9TsojLly/n5+dr99mY4uLiS5cumb7ZJg4ePMjPEgIADEFg4d8pLCy8du1aSbKIkydP2uy3hbKzs0u+2WYim7eLXy0BAChnCCz8O5mZmaWSxcvL6/bt29rdNiYhIcHf31/b6AOSg/byd18CAMoTAgv/TmJiYslbmkpcvnzZNr8tJBt7+Jtt4uDBg/IpaHcDAGAtBBbMKioqunHjhoeHh1Yrv7DNq4Q5OTlnzpzRtviQ69ev2+ybxgAA5RWBBbOysrJ+NVkOHz4cFxenLbIZiYmJx44d07b4kNDQ0MzMTG0RAABWQWDBrOTk5OPHj2ud8q+uXLlia1cJr127duDAAW1/Dzl06JB8ItoiAACsgsDCrysuLo6MjCz1lqYStnaV8P79+2FhYdrmHiGfCFcJAQDWRGDh1927d+/fJIutXSVMTk4OCAjQNveI06dPy6ejLQUAQH8EFn5dSkqKueuDJtevXy8oKNBWG+3GjRsHDx7UdvYIycE7d+5oSwEA0B+BhV+Xm5ublpaW+ouwsLBjx45FR0drt1NTs7KyCgsLtdWGKi4uzs7O1raVmirl5+vrGxgYGBsba5q5e/duXl4ev9IdAGA1BBZ+neTIwy5fvhwUFHTnzh3t9i+01YbStvIL068bNb1LTJv6hfZ/AABAZwQWHosEVnBwcGpqqnbbhpkCKzQ0lN/hDgAwCoGFx0JgAQDw+AgsPBYCCwCAx0dg4bEQWAAAPD4CC4+FwAIA4PERWHgsBBYAAI+PwMJjIbAAAHh8BBYeC4EFAMDjI7DwWAgsAAAeH4GFx0JgAQDw+AgsPBYCCwCAx0dg4bEQWAAAPD4CC4+FwAIA4PERWHgsBBYAAI+PwMJjIbAAAHh8BBYeC4EFAMDjI7DwWAgsAAAeH4GFxyKBdfTo0WvXrkm+2DjZqo+PD4EFADAQgYXHcvv2bUkWOyItmJ2dre0eAADrIrDwWIrsUHFxsbZ7AACsi8ACAABQjMACAABQjMACAABQjMACAABQjMACAABQjMACAABQjMACAABQjMACAABQjMACAABQjMACAABQjMACAABQjMACAABQjMACAABQjMACAABQzKqBlZiYeOLEiaMArEJONznptNMPAGBF1gss+Q/9kSNHnJ2d1wOwCjnd5KSjsQDA+qwXWDdu3HB1dd27d++FCxeu24Njx45t3LjR09Pz0qVL2pRt8/X1dXR0PHz48LVr17QpGyablK2ud1jvdmDjodPbbH94nnDZttt5o/P6Y14br4dttf1xIWTLXncnOenk1NNOQgCAtVg7sCQC0tPTi+3BxYsXt2zZEhAQkJOTo03ZtrCwMCcnp5MnTxYVFWlTNkw2KVt1cFy/L2BLcIK77Y+AWzvdvTZt2eRwMXRLcYqb7Y/06O2+B50JLAAwhAGBlZGRoU3ZtkuXLpkC6/79+9qUbTt37lxJYGlTNuzhwApJdLf9ERCjBdal0C3/vONm+yODwAIA4xBYZhFYuiKw9B4EFgAYiMAyi8DSFYGl9yCwAMBABJZZBJauCCy9B4EFAAYisMwisHRFYOk9CCwAMBCBZRaBpSsCS+9BYAGAgQgsswgsXRFYeg8CCwAMRGCZRWDpisDSexBYAGAgAsssAktXBJbeg8ACAAPZcWAVFxdHR0e/++67NWvWrFGjRsuWLVesWFFQUKDdbTE9AisnJ2fHjh3NmjWTPbdt23bdunV5eXnafRbTNbB8fHwGDBgwevTos2fPalOW0SOwguJ2zl81uXHrupWqPSujY6/WGw4tD07YVWpZ2YbywLodvu6toZ1rVn+21DiwY15unEupxWUYBBYAGMheA0vq6sqVKxJVf/7zn59//vkhQ4Y88cQTTz755KRJk3Jzc7VFllEeWAkJCUuWLJFN1q1bd9CgQRKFFSpU+OKLLwoLC7UVltEvsK5du/b222//z//8z8svvxwSEqLNWkZ5YPlFuoye9ur//f0vtepXHTfnjYEjelSo+FTNulV+2L1ESWMpD6zrp1Z369S4ds3nXu7e/JW+bUpG4IElefHbSi0uwyCwAMBA9hpYqamp8+fPr1ix4ueff56SkpKenh4YGCgv/02bNt23b5+2yDJqA0uK8MCBA1WqVBk/fnzJhiWzOnXqJM+JtsgyOgVWfn6+VGDNmjXl2bblwFr78+Lm7Rq+2K3lj3s+Oxq1zffG1rkr3qtaq9KA4d3cT6wttbgMQ3lgnfRe+mKbujMn9bt28rv0yI0lIz9hW3GKa6nFZRgEFgAYyF4DSx5EYuKDDz6QWDHNSLKsXLmybt26mzdvNs1YSG1gJSYmShG2bt36yJEjElsyU1hYmJWVJZ+IFIxpjYV0Cqzdu3d37dr1448/fvvtt205sFa6fNywRe133n/N68om08zWoytbtG/UfUB718DVJcvKPJQH1rH9i9u0qP3d0ncyojaWukvJILAAwEB2fIlQuiQ3N9cUKyIyMnLcuHFSMEePHjXNWEhtYF28ePGVBzIzM+/evXv69Olr166pujhookdgyT4HDRo0a9as69evy9Nry4G1+9SPPQd3bNe1hdPBL00zH62c9Hz152YtHet7Y2vJsjIP5YHl7vxBo/pV1ix7NzN6051rTqnXnQoSt5daY8kgsADAQHb8JveHSWnt2LHjT3/60/Dhw1W9z11tYEmptG/fvlmzZm+99Zbs838eqFat2vfff6+tsJjywEpLS/v4448HDBggm09ISLDxwApO2PXDz4tbvtjoj3/8Q426VZ6t9PQf/vDfQ955WcLLNt+DtcPh/QZ1Kv/fX/78xBNyQPzx/40//XHmpH5JVxxKrSzbILAAwEDlIbAkgLZt2/Zf//VfPXv2TEpKKvmeloXUBpbEROvWrf/6179OmTIlJydH8sLb27tNmzadO3f28/PTFllGbWDJ0+js7Ny1a9ddu3bJx4mJiTYeWDL2n3Po/0a3P/zhD//fA//zpz++v+Qd72ubSy0r21AeWBvXTq5Ts2LThlWPeywuSNyeHrlx+JAOT/zvn5y+m3gvZnOpxWUYBBYAGMi+A0te+NPS0latWiWvqYMGDcrKytLuUEGP72C1atVKuso0I5tfvXp11apVf/rpJ9OMhRQGluzN39+/V69eixYtKiwslAeMj48fO3Zs7969g4OD5V6hLS0r5YFlepP7S31e2OzztWlmxZaP6jSq3ndol102+Sb3R0fO7a2tW9Rq06JW5NnvS91VhkFgAYCB7Diw5DU+MTFx3rx5f/3rX9955x1VbxUvoTawIiIiBg4c2K9fv+TkZG3qn/90cXGpVq3awoULtduWURhYqampCxYsqFixojTWGw8MGDCgevXqMtOzZ88dO3ZkZmZqS8tKeWC9v/idfzz1t+mfvh0Q61oy2WNQh4pVnvlxz2clM2UeygOrOMW1KHlHqR8YfOPVDk/87/9EBH7z8GTZBoEFAAay4ze5JyUlffTRR08//fTcuXO1WaXUBlbJe/B9fHxM3/6Rwli1alXlypV/+OEH0xoLqQ2sJUuW/N9DpGL/+Mc//uEPf3jiiSfkLlmgLS0r5YE18aMRTz3zj4++nljyjquguJ3dB7SvXO3ZdXttMbBuha095PZxzPkfi5K1xspP3N6mRa3mTarfPLOmZFmZB4EFAAay18DKzs6W+vnLX/4yevTou/9K7tIWWUZtYElP7NmzRzb8xhtvJCYmpqenh4aGysft2rU7dOiQtsgyyt/k/jDbfw/WZz99UKNeldfH9N0V8v3RqG1+N13W7fu8SZv6HXq0cvH/ttTiMgzlgfX98jHVqlSY9G7viMCV6ZEb7950/mnl+CqVnx47snviJQXvcyewAMBA9hpYkZGRrVu3/vMjnn322Xnz5mmLLKM2sERsbOzcuXP/8Y9/VKpUqU6dOn/9619lt5999pnt/yZ3IYE1ceLEAQMGyONrU5ZRHlh+kS4jJ7/yf3//S5UaFQe/1atrvxcrVHzq70/93zKn2QGxbqUWl2EoD6zU607Dh3T42/898Yf//q/6tSv9429P/PUvf65Xu9LFoJX8olEAsHf2GljJycmLFy+e+ojZs2fv3r1bW2QZ5YElcnJy5BkYOnRozZo1X3/99WPHjml3qKBrYMmfmouLy/fffx8VFaVNWUZ5YMkIit/1457POr/c5rnnK8h4Y3x/95M/lFpT5qHHm9yLkl3dHGd0fKF+1eefbtOi9g8rxt694VxqTZkHgQUABrLjN7nrTY/A0pWugaWcHoGl69AjsHQdBBYAGIjAMovA0hWBpfcgsADAQASWWQSWrggsvQeBBQAGIrDMIrB0RWDpPQgsADAQgWUWgaUrAkvvQWABgIEILLMILF0RWHoPAgsADERgmUVg6YrA0nsQWABgIALLLAJLVwSW3oPAAgADEVhmEVi6IrD0HgQWABiIwDKLwNIVgaX3ILAAwEAGBFZ6enqxPbh48aIpsHJycrQp2xYWFlYSWNqUDXs4sIIT3G1/BNzSAuti6JbiFDfbH+kEFgAYx9qBtXfv3gsXLly3B8eOHdu4caOnp+elS5e0Kdsm8ero6Hj48OFr165pUzZMNilbXe+w3u3AxkOnt9n+8Dzhsm2380bn9ce8Nl4P22r740LIlr3uTgQWABjCeoGVmJh45MgRZ2fn9QCsQk43Oenk1NNOQgCAtVgvsIT8h/7EiRNHAZ0dOHDAy8tLu2EPPDw8pIS0G+rI6UZdAYAhrBpYgBUUFhZeu3YtISHBLt7sL2TD4eHhd+/eLS4u1qYAAHaOwEJ5k5mZGRISEhERYS8//pmWlubv73/9+vW8vDxtCgBg5wgslDcxMTG+vr6BgYF3797VpmzbjRs3vLy8Tpw4ce/ePW0KAGDnCCyUK0VFRZcuXTp48ODhw4fj4uJs/yphYWHh2bNnPT09pbFSU1O5SggA5QOBhXIlKyvr5MmT+x+4fPlybm6udoetSk9PP378uGnDN2/ezM/P1+4AANgzAgvlyu3bt/38/Ey9EhwcnJaWpt1hqyIjI729vU0bljTMzs7W7gAA2DMCC+VHUVHR5cuXDxw4YOqVw4cPJyQk2PJFN9lwWFiYp6enacNeXl5ShFwlBIBygMBC+XHv3r3Q0FBTrJhcvXrVln80LzMzMyAgQNvrA9HR0QUFBdrdAAC7RWCh/IiLizt69KiWKg+EhISkp6drd9seyakjR45oe33g1KlTOTk52t0AALtFYKGcKC4uvnLlSsn1QZPDhw8nJSXZ5kU32dW5c+dKrg+aeHl5ZWRkcJUQAOwdgYVyIjs7+/Tp01qnPOTatWu2eZUwKysrMDBQ2+VDYmJiuEoIAPaOwEI5kZiYeOzYMS1SHnLy5MnMzExtkS2JjY319fXVdvmQs2fP2svvoAcAmENgoTwoLi6+du3awYMHtUh5yOHDh5OTk23topvs58KFC6UuaJp4e3tLEXKVEADsGoGF8iAnJ+fs2bNaoTzCBn+BZ3Z2dnBwsLa/R8TFxRUWFmpLAQB2iMBCeZCcnFzq9x087PTp07b21/xJQpX8QtRHnT9/3vZ/Bz0A4N8gsGD3iouLr1+/fujQIS1PHuHl5XXnzh3buegmOwkPD//V64Mm3t7eUoRcJQQA+0Vgwe5JiGRmZib84vLlyz4+PsePH4+MjNSmEhJyc3NtKrDS0tK0nSUkRERESAIGBwffunVLm0pIKCgoILAAwH4RWChvpE78/f1DQ0MzMjK0KdsWGxsrRXj27Fl+xSgAlBsEFsobAgsAYDgCC+UNgQUAMByBhfKGwAIAGI7AQnlDYAEADEdgobwhsAAAhiOwUN4QWAAAwxFYKG8ILACA4QgslDcEFgDAcAQWyhsCCwBgOAIL5Q2BBQAwHIGF8obAAgAYjsBCeUNgAQAMR2ChvCGwAACGI7BQ3hBYAADDEVgobwgsAIDhCCyUNwQWAMBwBBbKG1NgnTx5Mi0trdAe3Lp168iRIwQWAJQnBBbKG1Ng7bc3BBYAlCcEFsqbpKSkwMDAQ/bm/PnzBBYAlBsEFgAAgGIEFgAAgGIEFgAAgGIEFgAAgGIEFgAAgGIEFgAAgGIEFgAAgGIEFgAAgGIEFgAAgGIEFgAAgGIEFgAAgGIEFgAAgGIEFgAAgGIEFgAAgGIEFgAAgGJWDayMjIzIyMirAKxCTjc56bTTDwBgRdYLLPkPfUhIyJYtWxwd1zvZw3BwWC/kn6XmbXb8smEHJzshW2XD+nF0dJTTTU46GgsArM96gXXjxg1XV1e37Y7HvDaeOLrJ9seBPRs2OK13d3UK9LGPDe//eYMEwJ49e+Q19YTNk03KViVW9u/fr03ZtsDAQHd39w0bNhw4cECbsm3Hjh1zc3OTk05OPe0kBABYi7UDy/egc0b09n/ecbP9cSl0y5ZNDgFHNt6P21HqLtsc54I2OzmuP3nyZFFRkfak2zDZpGzVycnp3Llz2pRtu3//fkBAwJYtWy5duqRN2baMjAxfX18CCwAMQWCZHQSWrggsvRFYAGAgAsvsILB0RWDpjcACAAMRWGYHgaUrAktvBBYAGIjAMjsILF0RWHojsADAQASW2UFg6YrA0huBBQAGIrDMDgJLVwSW3ggsADAQgWV2EFi6IrD0RmABgIEILLODwNIVgaU3AgsADGTfgVWc4pqfuD3r1ub0yI05t7cWJqksIZ0CSzaZE7s1M3qT/FPthnUNLHnM/AdUPbjywCouLi4oKMh7RGFhodylLbKAToEl28vJyUlPT8/KypKnV8lWTQgsADCQHQdWbrxL8KHPx4/qMfL1Tm8O6Thq2EuL5w27eXpNqWVlHsoDS3IwLuKndV+PHzWs84jXOr01tPO3X7x9O3xdqWVlHvoFlrzq+/j4TJ8+fcWKFaperZUHVlpa2vr1699+hJeXlxSMtsgCegSWPJmLFy8eNWrUyAdkt/KcSGZpd1uGwAIAA9lrYBUm7Th3bEXn9g0rPvuPUUM7f7VoZK+uzeTjmZP6x0f8VGpx2YbywJKW+vzjN9q1rvv28C5fLx712sB2DepW/nrxW5nRm0qtLNvQL7AuXrw4evTo//3f/3355ZdDQkK0WcsoDyw5wIYNG/bCCy8sWLBg1UPOnj2bl5enLbKA8sCKiYl5//3369WrN2XKFHkeVq5c2bBhw27duoWGhhYUFGiLLEBgAYCB7DWw7t5w/nTu0Gee/tv8D4ZcPbEqI2rjgR0fdenQqEWTGod3zi+1uGxDbWDlJ2732Da3VbOaM97rdy30O4mqkAfffps2vk/U2e9LLS7b0CmwUlNTv/jii65duzZo0MCWAysiImLQoEFvv/22fJD9EFXX3ZQHloeHR9OmTd944w15BqSosrKy5Hl+5plnFi1adPfuXW2RBQgsADCQvQZWzu2tgQeWbPtp+q1zP5hmkq44LJr9ev06lbevf79kmSVDbWAlXFr/0YzB7VrVCfBcbJrJjXO5dvK7c8dW2PJ3sAoLC+VPbeDAgYsXL5YUsOXACg4O7tGjxwcffJCQkKBNKaU8sHbu3NmwYcNPPvkkKSnJNLNnz54aNWrMnDkzJSXFNGMJAgsADGSvgVWc4lqYtP1+3Fb5wDQTeeb7sSO7vdCqTuCBz0qWWTLUBtal4JWv9mvbr2fLqydW7dk8e9aUAcsWvHnG78v8RDXvSJOhPLCKi4vl0aSrPvzww/Pnz48bN86WA8vHx6djx46zZ88+fvz4xo0b161bFxgYmJ6erurZUB5YV69e7d69u8TrqVOncnNz7927t2DBgmeffdbNzU3Jm8YILAAwkB2/yf3hcfeG8/fLx9SvU3nGe/0yo9R8Q0htYJ3xW965fYNG9atMerdXlw6NmjeuXrvGc5KDa78am5ewrdTisg3lgRUVFTVz5sxRo0aFhYUlJCTYeGB5enq2adOmZs2aHTp0aNmyZePGjdu2bTt9+vQrV67Y5iXCvLy8Y8eODR48uHPnzn369Ondu3erVq1Wr16dnJys5E+QwAIAA9l9YBWnuCZfdfxmyajGDaoOf7XDDVv9KcITXktbNq1Z9fmnP5756nHPJcGHPt/8w9QeLzXt/GIDv72LSi0u21AbWDk5OevWrevbt+/PP/8sKZCYmGjjgXX48OHu3bu/9tpr27ZtO3r0qJ+f34IFC5o1azZnzpyYmBhtkQWUB1Z+fv6uXbtat25teieWZFalSpUmTpwYHR1NYAGAvbPvwJK6uh2+bu77rzRuUGX8qB7XQ1eXXDG0fKgNrFM+y15sXffFNvWCD39umsmO2bJswZtVKj219quxJcssGQoDq7i4+MiRI6+88srSpUtTU1MLCwvj4uLGjBnTu3fvoKAgeXzLvyekPLBkn+fPn79+/XrJ9bWkpKQBAwY0adIkODjYNGMJ5YG1d+9eiap3331XnuqbN29GRES4uLi0aNFi9uzZvAcLAOydHQeWtFTM+R/ee6dno/pVPpox+NZ57d3uqobawAoP+LpfzxY9uzR9+Dd1bVo7pUa1Z5Z+8mbJjCVDYWClp6dLWv3973+vW7duhwfatm373HPP/eMf/2jWrNlPP/0kL97a0rJSHli/asqUKZUrV/b29tZuW0B5YM2ZM0ee0u3bt+fm5ppm7t27J0918+bNpbdMM5YgsADAQHb8Jve4iHXjR/doWO/5r5eMSrzsUGqB5UNtYN0OXzdzUv+WTWse3vmxaaYwaceaL8fUqvHcTysnlCyzZCgMrJycnOPHj3/1kI8//rh169b16tWbOnWq3GX5u7CVB5aHh8eIESN2795d8ulLuAwfPlyK0Da/gzV79uwnn3xy7969Jd8OlJ23a9euadOmBBYA2Dt7DayMqI2rvni7etVn5kwdGB/xU07sVtO4f3trvqL3jKsNrPyE7Ts3zHzm6b+9NrBdROA3uXEuAZ5LXu7evEuHRsc8tF/cYOFQGFjyCJJQaQ+5cuXKqFGjunfvfuTIEblLyb9CbWBJWrVs2XLAgAHSf9nZ2VlZWT/99FPt2rXHjBmjpFeUB9aPP/5YvXr1adOmRUZGyrNhekuWzLz55pvx8fHaIgsQWABgIHsNrMgz37dpUesPf/jvis/9o0mDqiWjXeu6Xy8eVWpx2YbawJKRctXxiwXDKzz1f3VqVpSt1qz+bMO6z3+39J3s2C2lVpZtqH2Teym2/yb39PT0RYsWVatWrUaNGo0fqFy58ksvvSSRoeQvn1EeWHfu3HnvvfekqOrVq9e0adMmTZpUrVq1YcOG8m9RsmECCwAMZK+BlRO75YTXF0f3LSo1jnsuvnFqdanFZRvKA6so2TUt0vn8sRXbHd7/7KM33JxmXAz6Jj1yY6llZR66BlZeXt6VK1ckhix/95WJ8sAqLi5OTU2VR9u6deu8efNWrVp17NixqKgoCSNthWWUB5ZsOCkp6fz58y4uLlOmTFm2bNnRo0evX7+em5tr+c8QCAILAAxkx+/BKkjc/qujMElNDykPLNOQzLp/e2tGlDzsVvm41L2WDF0DS17yCx9Q8tovlAeWiTys6eJmVlZWQUGBqt0K5YFlYtqwpKH0kNoNE1gAYCB7DSwrDJ0CS7+ha2App1Ng6UenwNIPgQUABiKwzA4CS1cElt4ILAAwEIFldhBYuiKw9EZgAYCBCCyzg8DSFYGlNwILAAxEYJkdBJauCCy9EVgAYCACy+wgsHRFYOmNwAIAAxFYZgeBpSsCS28EFgAYiMAyOwgsXRFYeiOwAMBABJbZQWDpisDSG4EFAAaydmD5HHROj95enOJq++PiL4GVE7ej1F22OcICNzv+EljFNs8UWI6OjmFhYdqUbcvJyTEF1sWLF7Up25aenu7j40NgAYAhrB1YB/duiL7gknJ9u+2P0GObNm10OOLpHHfZPjYc5LtRAsvf3z85OTnF5skmZasSWEFBQdqUbYuLizty5MimTZtCQ0O1KdsWHR198OBBAgsADGG9wIqNjZX/3G/dunULAKuQ001OOjn1tJMQAGAt1gssAACA3wkCCwAAQDECCwAAQDECCwAAQDECCwAAQDECCwAAQDECCwAAQDECCwAAQDECCwAAQDECCwAAQDECCwAAQDECCwAAQDECCwAAQDECCwAAQDECCwAAQDECCwAAQDECCwAAQDECCwAAQDECCwAAQDECCwAAQDECCwAAQDECCwAAQDECCwAAQDECCwAAQDECCwAAQDECCwAAQDECCwAAQDECCwAAQDECCwAAQDECCwAAQDECCwAAQDECCwAAQDECCwAAQDECCwAAQDECCwAAQDECCwAAQDECCwAAQDECCwAAQDECCwAAQDECCwAAQDECCwAAQDECCwAAQDECCwAAQDECCwAAQDECCwAAQDECCwAAQDECCwAAQDECCwAAQDECCwAAQDECCwAAQDECCwAAQDECCwAAQDGrBlZxcXERACuSk047/QAAVmS9wJL/0GdlZcXFxcUAsAo53eSko7EAwPqsF1j37t07ffr01q1bHe2Eg4PD+gfkf+1irH+wX/mHo6N9DNPzK8+z9ozbPNMhYUcbltNNTjo59bSTEABgLdYLrBs3bri6urq4uHh6enrZA3d3d3mJct7quH2P8459G21/bNruJC//rtscD+/f4GXzQzYpW5UN79y5U3vGbdvBgwe3b98uh4QcGNqUbZMTTU43Oenk1NNOQgCAtVg7sHx9fTMyMrQp23bp0qUtW7a4e20KiNkZkuhu+2NfwBYHx/Un/TcVpbj+846bjQ/ZpGzVycnp3Llz2jNu2+7fvx8QECCHhBwY2pRtkxNNTjcCCwAMQWCZRWDpOggsvRFYAGAgAsssAkvXQWDpjcACAAMRWGYRWLoOAktvBBYAGIjAMovA0nUQWHojsADAQASWWQSWroPA0huBBQAGIrDMIrB0HQSW3ggsADAQgWUWgaXrILD0RmABgIEILLMILF0HgaU3AgsADGTfgVVYWJienn7r1q0rV64kJCTcu3dP4V+7pkdgBSfs8o/e7nHOwf3ED/vPORyN2iYzpdaUeegaWHnx29IjN2ZEbSpI3F7qrrIN5YFVVFSUlZV15xESRkqOCj0CSzYmB60cunIAR0dH3717Vw5p7T6LEVgAYCA7Dqzs7Gx/f//ly5e///77Y8eO/eijj9avXx8eHq6qsZQHVlD8zj2n132yetroaa++9m6ft6YMXvT99N2nflTVWPoFlkRV4MHPvvr0ra3rpsVe+LHUvWUbygMrMzNzz549n3/++ZdffilHRYlTp07l5uZqiyygPLCkCC9cuCAH7SeffDJx4sQPPvhg2bJlgYGBOTk52grLEFgAYCB7Daz8/PwTJ0506dKldu3ao0aNmjJlSt++fatXrz5p0qSEhARtkWWUB5bnBccJc4fXa1Kz5ysdX3+3T4eeres2rjFlwVveVzeVWlm2oVNgFae4Xgr+duTQTn/84x9e7tYs5PAXpRaUbSgPrMjIyDfeeKNRo0ZyPEx9iJ+fn7SRtsgCygMrNjZ2woQJDRs2lG3PmTNn2rRpTZo06dOnT1BQUF5enrbIAgQWABjIXgMrLS1t6dKlVapUkS/6s7KyCgsLz5w507t37+bNmx84cEBbZBm1gXU8xnXF5nkNmtUePmGAZ7hTcMKubf6rRk8fMnn+yH1h60stLtvQKbCSLjssnjesS8dG9WpXsuXAunDhwsCBA8ePHy+lpU0ppTyw9u3b17Rp03fffffmzZummVWrVj333HMff/xxamqqacYSBBYAGMheAyszM3PHjh3Lly+PiooyzcTHx8+dO7dBgwYyb5qxkNrA8rzgOGraq41b1V2//4ug+J0Bsa6SXF5XNh266BwYp+Y7ZHoEVs7trS7rpg3s0/qL+cPfGtrJlgPrxIkTPXv2fP/99+Pi4ooeUPiGPKE8sHbv3t24cWPJqZLvuXp4eNSsWXPWrFkpKSmmGUsQWABgIPt+k3sJeSm9du3a6NGj27VrFxgYqM1aRm1gbfP/tmPP1i92b+lwYNnH306eunDU+4vfWblt/pFrW0qtLPNQHlhFya7Bhz4f+XqnudNfOeP75bi3uttyYHl7e7dv337y5Mnbtm1bvXr1t99+K6kdGRlZUFCgrbCM8sC6evVq3759u3fv7unpKY118+bNmTNnVq1addeuXUrehkVgAYCBykNgSV0lJSWtXLmyefPmc+bMSUtL0+6wjNrA2ui9olnbBrUbVHt9TN923Vp06deubuMajVrWWbhmms91NY2lPLAiz3z/waQBo994Kcz/q8RL6208sA4ePNi2bdvWrVt37NixVatW9evXb9So0dSpUy9evKjkR/OUB5aUnyRgjx49Bg4cOH369DFjxkggSmPFxcUp+d4bgQUABrL7wCoqKrp9+/aKFSvkxWn8+PHh4eHaHRZTG1jOh5c3alm3wnNPvjq690qX+TsCvvv0h/dbdmjcqkPjdXs/L7W4bENtYKVHblz71djB/dru2TKnMGmH7QfW6dOn582bN2XKlK+//vrnn392cXGZMWNGgwYNZFKSRVtkAeWBJSeCm5vb4MGDhw4dOm3atLFjx/bq1Wvu3LlShEq+60ZgAYCB7DuwCgsL5WHnzJnTpk2b6dOnX7hwQbtDBT2+g9WkdT0Hz6WmmaNR26Yterty9efmLB9fssySoTCwpKi83RcM7NN6/sxXb55Zk3p9w+WQb0cN7dytU2OvXfOzY7cUJVv6r1AeWPfu3YuJiUlJSSn5fpV01SuvvNK0adOgoCDTjCWUB5aHh4cct8OGDQsODs7KykpMTHR2dq5Zs+bs2bN5DxYA2Ds7Dix5Hb1+/fqkSZMaN2786aefysfaHYqoDSwX/2879GjVtnOzXSfWlkx+snpqlZqVpi9+p2TGkqEwsLJubV72yZsVn/vHgN6tpo7rI2PMyG6N6lepVqXC0EEv7t82917MllL/l/90KA8sOR5yc3NLfe9n3LhxkixHjx7VbltAeWDNnDmzYsWKLi4u8simmby8vC5dujRp0kRJEhFYAGAgew2s4uLiW7duvffee1JX33//vXz1r92hjtrA2n/OYcSkQXUaVV+xeZ7pN4seu7V9xpJ3q9d5/qOVkx5eWeahMLBybm/13//psk9GlIz5Hwxp27J23dqVJo/pLXfJglL/l/90KA8sqagFCxZ4eXmV/FrRu3fvDh06tGXLliEhIaYZS+gRWM8999zevXtLvuUm/4rOnTs3b9685Bc3WILAAgAD2Wtgpaenf/XVVxUrVhw3blx4eHjUL6S6lPwOIaE2sI7HuH654UPJqR6DOqz9efHesz9JabXp3PSFLs0dDywrtbhsQ/mb3B8etv8eLDc3N6nt3r17//zzz5GRkVeuXFm+fHnt2rWnTZsWExOjLbKA8sDavHlz3bp1x48ff+bMGWlB+SJBHrxatWpjx45V8gUDgQUABrLXwJKQ6tGjx7PPPisvqGMeMnnyZPm3aIssozawZOw/5zDx45GNWtZp+1Kz3q92atm+UYt2DRetme5706XUyrINfQPrssPkMS8P6tMm1HtpqbvKNpQHVlxcnBRVmzZt2rdvP3To0Ndee61JkybDhg0LCQlR8ovRlQeWZN/8+fNffPHFQYMGyaE7atQo+bhfv35HjhwpuWhoCQILAAxkr4ElD7Jz5055eS5FXv9OnjypLbKM8sAKTtjlecHpq83z5n41YeZn7877euKanYu8rqj5e3Jk6BpYObFbj3suOeT2cdIVh1J3lW0oDyxx+/ZtDw+Pn376aeXKlWvWrNm4ceP58+eVxIpQHlgiMjJyz54969at++qrr7777jtnZ+fg4GD+LkIAKAfs+E3uelMeWCUjKH5n4G03VX/Hc8nQNbCUDz0Cy6S4uDg/P7/kjU2q6BFYJeTBlW+YwAIAAxFYZukXWDoNAktXugaWHggsADAQgWUWgaXrILD0RmABgIEILLMILF0HgaU3AgsADERgmUVg6ToILL0RWABgIALLLAJL10Fg6Y3AAgADEVhmEVi6DgJLbwQWABiIwDKLwNJ1EFh6I7AAwEAEllkElq6DwNIbgQUABiKwzCKwdB0Elt4ILAAwEIFlFoGl6yCw9EZgAYCBrB1YGzdudHNzc7cHLi4uDg4OThsdNm132rzDDsaGTQ7r16/fsslhl6uju6uTjQ/ZpGxVNrx161btGbdtO3fu3LRpkxwScmBoU7ZNTjQ53QgsADCE9QIrLy/vwoUL27Ztk9dUAFYgp5ucdHLqaSchAMBarBdYQv5Dn5GRkfa7l5CQEBMTo92wQ7L5+Ph47QZsmJxu1BUAGMKqgQVRVFQUGxt74cIF+UCbsiuFhYUXL16UT6G4uFibAgAA/4rAsracnJzw8PDg4GB7ebN/KXfv3pXNR0RE3L9/X5sCAAD/isCyNgmUwMBAX1/fmJgYbcquxMbGyublU0hNTdWmAADAvyKwrKq4uPj27duenp4eHh7h4eF2d5VQNizb3r9/v3wKEohcJQQA4FcRWFZ1//79ixcvSqCIEydOZGZmanfYiYyMDNm2af9cJQQAwBwCy6pM1wdNgeLr6xsbG6vdYSdu377t5+dn2r98IvLpaHcAAICHEFjWU1xcHB8ff+DAAVOgeHp6Xrx40Y6ushUVFcmGPTw8TPuXT0R6i6uEAAA8isCyntzc3CtXrpjqxCQ0NDQrK0u72+ZlZmbKhrWtP3Dp0iX5pLS7AQDALwgsKykuLk5PTw8ODtba5IGjR4/GxcXZxTeBZJOy1ZLrgyby6aSlpfFNLAAASiGwrEQqJCEhoeT6oImHh8elS5fs4mcJZZNXrlzx9PTUtv6A3LSXQAQAwJoILCvJy8u7du2aFiYPOX36dHZ2trbIht27d0+2qm36IVwlBADgUQSWNRQXF2dkZISEhGhV8hB/f//4+Hgb/yaQ6dtvslVt0w8JCgriKiEAAKUQWNYg/ZGYmHjw4EGtSh7i6el55coVG79KKNu7evVqqeuDJqarhHZxlRMAAKshsKwhPz//5s2bWpI84uzZszk5OdpSm5SdnS2b1Lb7iEuXLvEbRwEAeBiBZQ2ZmZklvwD9Uf7+/gkJCdpSm2Tu+qBJUFBQeno6VwkBAChBYOlOyiM1NdXPz+/QLw48oN04dMjHxycyMtJmA0U2Jtvz9vbWtvvI/o8cOZKcnExgAQBQgsDSnZTHvXv3on5x7dq1U6dOhYSEXLp0SZuKipICs9m3McnGZHvaRqOiZNuy+dDQ0KtXr2pTUVGZmZm8DQsAgBIElrVlZGRIndj+ZUFzEhMTjx07dvLkyfT0dG0KAAD8KwLL2ggsAADKPQLL2ggsAADKPQLL2ggsAADKPQLL2ggsAADKPQLL2ggsAADKPQLL2ggsAADKPQLL2ggsAADKPQLL2ggsAADKPQLL2ggsAADKPQLL2ggsAADKPQLL2ggsAADKPQLL2ggsAADKPQLL2ggsAADKPQLL2ggsAADKPQLL2ggsAADKPQLL2ggsAADKPQLL2kyB5efnFx0dnWWHZNtHjx4lsAAA+DcILGszBdahQ4cCAwNP2SHZtmyewAIA4N8gsKwtKyvrwoULfnbu/PnzmZmZ2qcEAAD+FYFlbfn5+Xfv3k2wc/IpyCeifUoAAOBfEVgAAACKEVgAAACKEVgAAACKEVgAAACKEVgAAACKEVgAAACKEVgAAACKEVgAAACKEVgAAACKEVgAAACKEVgAAACKEVgAAACKEVgAAACKEVgAAACKWTWwsrOzExMTbwOwCjnd5KTTTj8AgBVZL7Du3bt37ty5Xbt2bQFgFXK6yUlHYwGA9VkvsKKiotzd3b29vRMSErLsQVhY2ObNm/38/FJTU7Up23by5ElHR0d3703HIt2ORdn8iHSTrTo6rj/pvykrZoftj9Sb2/0OOcshIQeG9ozbNjnR5HSTk05OPe0kBABYi/UC68aNG66urr6+vhkZGdqUbbt06dKWLVsCAgLu37+vTdm2c+fOOTk57fHbHJywKyTR3caHbFK26uS4/lzQ5n/ecbP9cT9uR8CRjXJIyIGhPeO2TU40Od3kpJNTT5sCAFgLgWUWgaXrILD0RmABgIEILLMILF0HgaU3AgsADERgmUVg6ToILL0RWABgIALLLAJL10Fg6Y3AAgADEVhmEVi6DgJLbwQWABiIwDKLwNJ1EFh6I7AAwEAEllkElq6DwNIbgQUABiKwzCKwdB0Elt4ILAAwkB0HVnFxcWFhYXZ2dlpa2p07d+RhpYSKioq0uy2ma2CZdp6Tk1NQUKBNWUyPwAqO33Xs1o4j17Z4Xdnkc33L8RhXVQ+uPLCKkl3vx7lk3dpcauQnbCtOcS21uAxDj8CSw1WOLjl05QC+e/fuvXv35MCQA1u72zIEFgAYyF4DS16EcnNzz549O2/evNatWz/zzDMDBgxYu3ZtTEyMqsbSL7DkRVRiaNGiRUuXLo2IiNBmLaY8sILidu47+9OHyye07tS0aq3KnV9u+/n6D6S0lDy+8sBKu+m84buJE9/pNXXsy1PH9SkZR/cuun97a6nFZRjKA0sO1Fu3bv3www+DBg2qWLFiixYtZs2aJX+IeXl5ShqLwAIAA9lrYEmjhIaGNmrU6LnnnuvZs+eIESPatGnz5JNPjhw58s6dO9oiy+gUWPLaGR0dPX369D/84Q/t2rU7fPiwdofF1AaWPMjPoT+8+nbvilUqtO/RqvernRs2r1252rNzlk/wj95eanEZhvLAig5bO3xIhzo1K77ar+2oYS+VjMM7P86xycBKTEwcOnSopFWfPn0++OCDd999t2bNmvLVwokTJ5R8X5PAAgAD2WtgSUXNnz+/Ro0a33//vWlGXvYGDx7ctGnTffv2mWYspEdgSV1lZmauXbtW0rBBgwa2HFjHY3Z8uHx89dqVpy0cfezWDpnZcGh5v2FdRk4etOvE2odXlm0oD6zzx1cMeLnV+NE9Is98X+ouJUN5YLm7u8thMHbs2MjISNPMunXrKlWqNHPmzJSUFNOMJQgsADCQvQZWWlqavBotXLgwOTnZNCPJ9cUXX9SrV2/btm2mGQvpEVh5eXmenp69e/f+6KOPJBBtObB2hqzt/0a3Tr1ab/b5+niM69HIbcdubQ+K21lqWZmH8sAK9V7au1uzWZMHxEf8lBvvkhvnUpC4Xcm7r0xDeWDt2rWrYcOGX375ZWpqqmnG39+/bt2606ZNKzmqLUFgAYCB7PhN7g8rKiq6fPnyiBEj2rdvHxQUpM1aRnlgySbPnz//zjvvjB8/Xnb7ySef2HJg/bTv85btGw0c0WOL7zffuHy8YNWUpQ6z5GPfmy5KHl95YHm7L2jftt7kMb19fv5kv8uHP2+addxj8e3wdfkJ20utLNtQHliRkZGvvPLKyy+/fOjQofj4+KioqA8//LBWrVr79u1TcsgRWABgoPIQWBIuSUlJq1atql69+gcffJCTk6PdYRm1gVVcXCybXLp0aZ8+fUJCQlJTU208sL7dvqBOo+otXmzYc3DHuo2rN2xR+7nKFeo3q/XZuplHo7aVWlyGoTywDrp+9EKrOrWqP9u0UbVG9avUq13pmaf/NnZkt4jAbwqTFDSW8sCSQ2Lbtm0tW7asW7fu2LFju3TpUrly5WnTpiUkJPAmdwCwd3YfWIWFhbdv3165cmX9+vXHjBmj8LVEbWBlZ2fv2LGjd+/emzZtkpu2H1grt82v1bDa08/+450Zr+09+1NArOsXDrMkuTr0bO3s9VWpxWUYygPruMfiUcNeeqVvG+c1k6PCvj/n/9XsqQMrVXzyoxmDEy6tL7W4DEN5YKWnp3t5eY0aNapHjx6DBw+WY6Nnz57ffPPNtWvXeJM7ANg7+w4seR2Sh5VSqVOnztSpU6Ojo7U7VFAYWEVFRSdPnuzXr58kYFRUVHx8vDz4jBkzWrVqtX37dnmhlUzUllpAbWB957qwfrNaHXv+v/dgmWYCYt3emjK4Wp3KXzp/WLKszEN5YD060m46vzawXeMGVYMOflbqrjIM5YG1c+fORo0avfPOO3IMFz/w888/16hRY9KkSUlJSdoiCxBYAGAgOw4sqasrV65Mnz69evXq8+fPV/KDVw9TGFg5OTnyUPLaOXLkyEUPzJ49u2PHjs8//7zM7NmzJysrS1tqAbWBtX7/F607Nun3RleP846mmeAE98kL3qpas9LiH94vWVbmoTyw7t/eevfGhod/I0Nxiuukd3tXff5pn92flEyWeSgPrJkzZ1aoUMHNzS0/P980I43VoUOHJk2aKEkiAgsADGSvgVVUVGT6bVI1a9b8+uuvc3NztTvUURhY8gjHjh2b+pBx48a1adPmueeeGzRo0NatW5U8J2oDyy1oTd+hXZq/0HC128LABz886HvTZfiEAbUaVFuxed7DK8s2lAfWGb/lq5e967d3kamxilPcUq46vdK3batmNU54ffHwyrIN5YE1bdq0ypUrS16XXBCUzpbsbtSoEYEFAPbOXgNLHuTbb7/9y1/+Mnz48IiIiIu/uHz5cmJiorbIMgoD61G2/x6s4zGuH30zqVqtyoNG9nDwWLojYPXiH2c0b9ew+8AOW/1WllpchqE8sHZvnt2yac3+vVq5Oc2MCPzmnP+Kr5eMaljv+Unv9Io6q+A3YykPLBcXlwYNGkyZMiUkJCQ2NvbmzZvy4PIFw8SJE7lECAD2zl4D69atW71795ZXo0GDBo17yNSpU93c3LRFltE1sNLS0pYvX963b18/Pz9tymJqA0vGrhNrR08fUr9prQ49W/cb1rVxq7otX2y0fONcaa9SK8swlAdWwsX1yxeOaNGkepOGVd8Y3H7IgBeaNaomvRVy+IvCpB2lFpdhKA8s+Upg/vz5zZo1GzZs2EcffTRjxozWrVv36tUrKCgoLy9PW2QBAgsADGSvgZWamvrjjz9+8Yivv/7ax8dHW2QZXQMrJyfH39/f2dn55s2b2pTFlAeWDM8Ljl84zHpnxmsjJg2a+PGIDYeWB952K7WmbEN5YMnIurXZY/vcRR++PuO9fh9Oe2XNsndvnF6j6neNKg8skZ6eLl8PLFy4UL4wmD17tsIfIRQEFgAYyI7f5K43XQNLD3oEln5Dj8DSdegRWLoisADAQASWWQSWroPA0huBBQAGIrDMIrB0HQSW3ggsADAQgWUWgaXrILD0RmABgIEILLMILF0HgaU3AgsADERgmUVg6ToILL0RWABgIALLLAJL10Fg6Y3AAgADEVhmEVi6DgJLbwQWABiIwDKLwNJ1EFh6I7AAwEAEllkElq6DwNIbgQUABiKwzCKwdB0Elt4ILAAwkLUDy83Nzd/fP9geeHp6btiwwd3dXRpLm7Jt+/btc3Bw2OLm9LPPZrsYslUHh/X73J2C/TbZ/pC6cnd1lENCDgztGbdtcqLJ6UZgAYAhrBdY6enpp0+f3r9/vyQLoLddu3ZpH/2OyekmJ52cetpJCACwFusFlsjOzk5ISIiFvbn0gHbDTly4cOHq1avajd8rOd3kpNNOPwCAFVk1sGCPCgsLbzwgH2hTNq+4uPjKlStRUVF5eXnaFAAAVkRg4TdkZmaefkA+0KZsXm5urmw4NDTUXn6iAgBQzhBY+A0JCQlHH5APtCmbl5ycfPz4cS8vr8TExOLiYm0WAABrIbDw7xQVFV2/fv3AA/KB3NTusG2y1cOHD+/fv//q1atcJQQAWB+BhX8nKyvrzJkzUipCPpCb2h02TIrq7NmzHh4esueTJ09ylRAAYH0EFv6dxMREf39/U2DJB3JTu8OG3blzJyAgwLTnw4cPJyUlcZUQAGBlBBbMKioqunnz5oEDB0yxIh/ITdu/Siib9PLyMu1ZXL9+PT8/X7sPAACrILBgVnZ29rlz57ROeUBu2vjvVZKWCgsLM10fNDl16pQd/fwjAKB8ILBgluln8bROeUBuyqR2t026c+dOYGCgtt0HvLy8ZM9cJQQAWBOBhV8nRRIZGVlyfdBEbsqkLceKbM/b21vb7i9u3LjBVUIAgDURWPh1OTk558+f1wrlITIpd2mLbExBQYFs7+HrgyahoaF28fOPAIByg8DCr3v4Z/EeJpNyl7bIxqSmpgYFBWkbfcjhw4dTUlK4SggAsBoCC79CWiQ6OrrU9UETmZS7bDNWbt265ePjo230X3GVEABgTQQWfsX9+/fDw8O1NnmE3CULtKU2o7CwMCIi4tHrgyZcJQQAWBOBhV9h7lqbidwlC7SlNiMtLS0kJETb4iMOHTp0584drhICAKyDwEJpUiExMTG/en3QRO6SBbYWK7Gxsb6+vtoWf01UVFRBQYG2GgAAPRFYKE3KKS8vL/MX0lLHH5APtKnMTFlga4ElW8rKytL2l5l58uTJ4ODghIQE7XZmZm5urr38ZdUAAHtHYKE0KaeH3blzJ+gB0yW2h2n/B9ug7ekXZ8+eDQ0NzcjI0G7/QlsNAICeCCz8hocDS5uyB6bAyuQvyQEAGIHAwm8gsAAA+E8RWPgNBBYAAP8pAgu/gcACAOA/RWDhNxBYAAD8pwgs/AYCCwCA/xSBhd9AYAEA8J8isPAbCCwAAP5TBBZ+A4EFAMB/isDCbyCwAAD4TxFY+A0EFgAA/ykCC7+BwAIA4D9FYOE3EFgAAPynCCz8BgILAID/FIGF30BgAQDwnyKw8BsILAAA/lMEFn6DKbACAgLi4+Pv249Tp04RWAAAoxBY+A2mwPL29pZkibAffn5+BBYAwCgEFn5DRkbGxYsXT9ihq1evZmdna58GAABWRGABAAAoRmABAAAoRmABAAAoRmABAAAoRmABAAAoRmABAAAoRmABAAAoRmABAAAoRmABAAAoRmABAAAoRmABAAAoRmABAAAoRmABAAAoRmABAAAoRmABAAAoZtXASk5OPnXq1HEAViGnm5x02ukHALAi6wVWUlKSj4+Ps7PzegBWIaebnHRy6mknIQDAWqwXWDdu3HB1dd2zZ8+5c+eu2oOjR4/K65OHh0dERIQ2ZduOHDni4OBw6NChK1euaFM2TDYpW5UNy7a1Kdsmh4EcDHJIyIGhTdk2OdHkdJOTTk497SQEAFiLtQPL19c3IyNDm7Jtly5d2rJlS0BAwP3797Up2yYvqE5OTidPniwqKtKmbJhsUrYqG5Zta1O2TQ4DORjkkJADQ5uybXKiyelGYAGAIQgsswgsXRFYeiOwAMBABJZZBJauCCy9EVgAYCACyywCS1cElt4ILAAwEIFlFoGlKwJLbwQWABiIwDKLwNIVgaU3AgsADERgmUVg6YrA0huBBQAGIrDMIrB0RWDpjcACAAMRWGYRWLoisPRGYAGAgew+sAoLC9PT0+Pi4nJycoqLi7VZFQgsXekXWKZDIiUlRf7gFB4SOgWW7FAOXTmA7969KzvXZlUgsADAQHYcWPKC5+3tPXDgwPr169etW7dly5bvv//+5cuXtbstpl9gyWuqv79///79hw8fHhgYqM1aTG1gpaWlrVy5stEjZFLu0hZZQKfACgsLmzBhQpMmTerVq9ehQ4eNGzcq2a3QI7DkcJWDVg5dOYDlMO7du7efn19ubq52t2UILAAwkL0GVkFBQUhISMOGDWvXrj1u3Ljly5f369evUqVKo0aNSkhI0BZZRr/Aunr16pgxY/7nf/6nXbt2hw8f1mYtpjawbt++PW3aNCmqmTNnytNb4ujRozk5OdoiC+gRWCdOnBg8eHCrVq3mzJmzZMmSLl261KpVS446JX+CygPr1q1bw4YNkwN40qRJu3bt+uabb2TnjRs3PnbsWH5+vrbIAgQWABjIXgMrJSVl1qxZzz///Pfff5+ampqVlSWv1vLi2qRJkz179miLLKNTYKWnp69cubJ58+ZSV7YcWDdv3hw7dmz//v3lAeXpLZGbm6vkupvywJLsmzdvnjyxW7duTUtLy8zMPH78uLTLmjVrkpKStEUWUB5YElXSrxMmTJAHlGdVntuffvqpSpUq77//fnJysrbIAgQWABjIXgMrOzvbz89v8+bNJReAJLOWLVtWr149FxcX04yF9AisgoKCAwcOdO/eff78+R9++KEtB1Z4ePjQoUNHjx4dFxenTSmlPLDOnDnTt29fiUI50kwJmJ+fLzkr4aLkvU3KA8vd3V0Ca8mSJfLVgmnGy8urdu3aM2bMKJmxBIEFAAay18CSV1B5+Xz4uylXr14dPnz4iy++KC/bphkL6RFYZ8+efe211yZPnhwVFfXJJ5/YcmCFhob269fvrbfeOnTo0Lp167799ttdu3bFxsYq+faVUB5Ye/bsadGihUS2POwPP/wgT+933313+fJlVe8cVx5YMTExPXv27NSp0/Hjx+VgzszMlLT6xz/+IQmel5enLbIAgQUABrLjN7k/7O7du19//fWzzz47a9YsJe9fEcoDKyEhYcGCBX369Llw4UJqaqqNB1ZwcHCPHj2eeOKJp59+utoDf/vb37p27erj42Oblwi3bt1ar169jh07vvDCCx06dJDNV6lSpVatWh4eHkoOCeWBJc+AVOyQIUOee+65Bg0aVKpUSfa/YcMGOUGUPMMEFgAYqDwEVkpKymefffbUU0+NGTPmzp07qr7Fojaw5EF27NjRuXPnXbt2ySur7QdWeHi41Ko8pYcOHZI/MklYee1v0qTJm2++GRERoS2ygPLAku3VrFlTSkUOs8zMzOzs7J07dzZt2lQKRkkSKQ+s3Nxc2WqrVq3kqHj77bdln1KEEydOlDNFyXfdCCwAMJB9B5a01K1bt8aNG1ehQoUZM2ZkZWWpqiuhMLBkVyEhIT169FiwYEFBQYHM2H5gyYPkPyAfyP5FXl7eBx98UKdOnZ9//llbZAHlgeXi4lK/fv0JEyZERkbKbmVGnuoRI0Y0btw4KCjItMYSygNr8+bNsuHp06fLhuV5lqf32LFjEojvvPOOkp+EJbAAwEB2HFjyIhoVFfXaa69VrFhx6dKl8mpqellVRWFgZWZmrl279i9/+Yu8oLZ9oEWLFrLtv/71r/Xq1VuyZMmdO3e0pRZQG1iPkqd3+fLllStXdnR01KYsoDyw9u3b16pVq48++qjkyZQNSxHWqFHjyJEjphlLKA+sKVOmyBcGe/fuLfl+lWy4W7dusuFr166ZZixBYAGAgez4Te4xMTFSV9WqVdu4caM2q5TCwMrNzZXHkRf7EpMnT37xxRelsYYMGbJjxw4pMG2pBdQG1qlTp+bOnSt/ZKZyFfI8TJs2TRpRUkZbZAHlgRUWFta/f/9XX31VHtC04by8PHl6mzdvHhISoi2ygPLAmjFjxjPPPOPh4WHarZDnROJbNnzz5k1tkQUILAAwkL0GVlpa2rJlyypUqLB48WLJl4eZrsFZTmFgPcr2LxH6+/t36tSpVatW27dvT3/gp59+qlevns2+B0secOHChX//+9+lX6Ojo7Ozs9etW1enTp2JEyfKTW2RBZQHlrOzs2xvwoQJ165dkxaUQ3fTpk3yBQOXCAGgHLDXwJIv8eUL/T894plnnpk3b562yDJ6B5akoRSMt7e3NmUxtYFler2XApBnVUJWntg///nPsmGb/SlCERMTM3ny5KeeeqpSpUqy4SeeeEI2HBISomTDygMrJydnzpw5FStWrFKlSu/evVu0aCF1KP+8cOGCkj9BAgsADGSvgZWZmenp6bnjEe7u7mFhYdoiy+gaWHl5efI6KnUVHx+vTVlMbWAJ6RIJ2fXr10sHLFq0aO/evUp+w7iJHoElpFpOnDjx1Vdfffzxx25ubgo3rDywhDzDchisXLlyxowZc+fO9fDwUHKx2ITAAgAD2fGb3PWma2DpQXlg6UqnwNKPHoGlKwILAAxEYJlFYOmKwNIbgQUABiKwzCKwdEVg6Y3AAgADEVhmEVi6IrD0RmABgIEILLMILF0RWHojsADAQASWWQSWrggsvRFYAGAgAsssAktXBJbeCCwAMBCBZRaBpSsCS28EFgAYiMAyi8DSFYGlNwILAAxEYJlFYOmKwNIbgQUABrJ2YB0+fDg+Pj7THpw9e3bz5s1+fn4pKSnalG2TXnF0dJQIkFdWbcqGySZlq7Jh2bY2ZdvkMJCDQQ4JOTC0KdsmJ5qcbgQWABjCeoEVHR29Z88eNzc3b29vf3uwd+9eJycn2bCvr682Zdt2797t4ODg7u5+9OhRbcqGySZlq7Jh2bY2ZdvkMJCDQQ4JOTC0KdsmJ5psWE46OfW0kxAAYC3WC6yMjIwzZ87Iq6n21zID0JmcbnLS2ctFeQAoT6wXWEL+Qx8VFXUNgFXI6UZdAYAhrBpYAAAAvwcEFgAAgGIEFgAAgGIEFgAAgGIEFgAAgGIEFgAAgGIEFgAAgGIEFgAAgGIEFgAAgGIEFgAAgGIEFgAAgGIEFgAAgGIEFgAAgGIEFgAAgGIEFgAAgGIEFgAAgGIEFgAAgGIEFgAAgGIEFgAAgGIEFgAAgGIEFgAAgGIEFgAAgFL//Of/D2QBgfoCGkG6AAAAAElFTkSuQmCC)\n",
        "<div>\n",
        "<img src=\"attachment:asss.jpg\" width=\"500\"/>\n",
        "</div>"
      ],
      "metadata": {
        "id": "AlxH6Djuozz8"
      }
    },
    {
      "cell_type": "code",
      "source": [
        "%prun print(bubble_sort([8, 2, 6, 4, 5]))"
      ],
      "metadata": {
        "colab": {
          "base_uri": "https://localhost:8080/"
        },
        "id": "5HGOs372qArv",
        "outputId": "529647aa-1c16-4856-b005-44aed0f93306"
      },
      "execution_count": null,
      "outputs": [
        {
          "output_type": "stream",
          "name": "stdout",
          "text": [
            "[2, 4, 5, 6, 8]\n",
            " "
          ]
        }
      ]
    },
    {
      "cell_type": "markdown",
      "source": [
        "**ncalls:** Número de veces que se llamó a la función\n",
        "\n",
        "**tottime:** Tiempo total transcurrido en la propia función.\n",
        "\n",
        "**percall:** Tiempo medio necesario por llamada a la función (tottime/ncalls).\n",
        "\n",
        "**cumtime:** Tiempo total transcurrido dentro de la función y de las subfunciones llamadas."
      ],
      "metadata": {
        "id": "2OhCEzjXqlw0"
      }
    },
    {
      "cell_type": "code",
      "source": [
        "import sys\n",
        "!{sys.executable} -m pip install line_profiler"
      ],
      "metadata": {
        "colab": {
          "base_uri": "https://localhost:8080/"
        },
        "id": "SuWBiG5gpFIK",
        "outputId": "f430cd19-09c9-451f-8576-c9518920ab5c"
      },
      "execution_count": null,
      "outputs": [
        {
          "output_type": "stream",
          "name": "stdout",
          "text": [
            "Looking in indexes: https://pypi.org/simple, https://us-python.pkg.dev/colab-wheels/public/simple/\n",
            "Requirement already satisfied: line_profiler in /usr/local/lib/python3.7/dist-packages (3.5.1)\n"
          ]
        }
      ]
    },
    {
      "cell_type": "code",
      "source": [
        "import sys\n",
        "!{sys.executable} -m pip line line_profiler\n",
        "%load_ext line_profiler\n"
      ],
      "metadata": {
        "colab": {
          "base_uri": "https://localhost:8080/"
        },
        "id": "Lcm2-YTFraad",
        "outputId": "5af976f8-f66e-43ce-a009-d87f5c3e9601"
      },
      "execution_count": null,
      "outputs": [
        {
          "output_type": "stream",
          "name": "stdout",
          "text": [
            "ERROR: unknown command \"line\"\n"
          ]
        }
      ]
    },
    {
      "cell_type": "code",
      "source": [
        "%lprun -f factorial factorial(5)"
      ],
      "metadata": {
        "id": "cWkOxO2hrf3D"
      },
      "execution_count": null,
      "outputs": []
    },
    {
      "cell_type": "markdown",
      "source": [
        "Hits: Numero de veces que la línea se ejecuta.\n",
        "Time: Tiempo total que implementa cada línea. (la unidad está descrita por Timer unit)\n",
        "Per Hit: Tiempo promedio que utiliza la línea.\n",
        "%Time: Tiempo total que el algoritmo ocupa en esta línea."
      ],
      "metadata": {
        "id": "yqHB53XWt6Nv"
      }
    },
    {
      "cell_type": "code",
      "source": [
        "!{sys.executable} -m pip install py-heat-magic\n",
        "%load_ext heat\n"
      ],
      "metadata": {
        "colab": {
          "base_uri": "https://localhost:8080/"
        },
        "id": "RDP0_-cNu-WA",
        "outputId": "a1708372-de16-4c78-b06c-8c6438ed98de"
      },
      "execution_count": null,
      "outputs": [
        {
          "output_type": "stream",
          "name": "stdout",
          "text": [
            "Looking in indexes: https://pypi.org/simple, https://us-python.pkg.dev/colab-wheels/public/simple/\n",
            "Requirement already satisfied: py-heat-magic in /usr/local/lib/python3.7/dist-packages (0.0.2)\n",
            "Requirement already satisfied: jupyter in /usr/local/lib/python3.7/dist-packages (from py-heat-magic) (1.0.0)\n",
            "Requirement already satisfied: py-heat in /usr/local/lib/python3.7/dist-packages (from py-heat-magic) (0.0.6)\n",
            "Requirement already satisfied: ipython in /usr/local/lib/python3.7/dist-packages (from py-heat-magic) (7.9.0)\n",
            "Requirement already satisfied: pandas in /usr/local/lib/python3.7/dist-packages (from py-heat-magic) (1.3.5)\n",
            "Requirement already satisfied: matplotlib in /usr/local/lib/python3.7/dist-packages (from py-heat-magic) (3.2.2)\n",
            "Requirement already satisfied: scipy in /usr/local/lib/python3.7/dist-packages (from py-heat-magic) (1.7.3)\n",
            "Requirement already satisfied: sympy in /usr/local/lib/python3.7/dist-packages (from py-heat-magic) (1.7.1)\n",
            "Requirement already satisfied: numpy in /usr/local/lib/python3.7/dist-packages (from py-heat-magic) (1.21.6)\n",
            "Requirement already satisfied: nose in /usr/local/lib/python3.7/dist-packages (from py-heat-magic) (1.3.7)\n",
            "Requirement already satisfied: pickleshare in /usr/local/lib/python3.7/dist-packages (from ipython->py-heat-magic) (0.7.5)\n",
            "Requirement already satisfied: pexpect in /usr/local/lib/python3.7/dist-packages (from ipython->py-heat-magic) (4.8.0)\n",
            "Requirement already satisfied: backcall in /usr/local/lib/python3.7/dist-packages (from ipython->py-heat-magic) (0.2.0)\n",
            "Requirement already satisfied: prompt-toolkit<2.1.0,>=2.0.0 in /usr/local/lib/python3.7/dist-packages (from ipython->py-heat-magic) (2.0.10)\n",
            "Requirement already satisfied: decorator in /usr/local/lib/python3.7/dist-packages (from ipython->py-heat-magic) (4.4.2)\n",
            "Requirement already satisfied: traitlets>=4.2 in /usr/local/lib/python3.7/dist-packages (from ipython->py-heat-magic) (5.1.1)\n",
            "Requirement already satisfied: setuptools>=18.5 in /usr/local/lib/python3.7/dist-packages (from ipython->py-heat-magic) (57.4.0)\n",
            "Requirement already satisfied: pygments in /usr/local/lib/python3.7/dist-packages (from ipython->py-heat-magic) (2.6.1)\n",
            "Requirement already satisfied: jedi>=0.10 in /usr/local/lib/python3.7/dist-packages (from ipython->py-heat-magic) (0.18.1)\n",
            "Requirement already satisfied: parso<0.9.0,>=0.8.0 in /usr/local/lib/python3.7/dist-packages (from jedi>=0.10->ipython->py-heat-magic) (0.8.3)\n",
            "Requirement already satisfied: six>=1.9.0 in /usr/local/lib/python3.7/dist-packages (from prompt-toolkit<2.1.0,>=2.0.0->ipython->py-heat-magic) (1.15.0)\n",
            "Requirement already satisfied: wcwidth in /usr/local/lib/python3.7/dist-packages (from prompt-toolkit<2.1.0,>=2.0.0->ipython->py-heat-magic) (0.2.5)\n",
            "Requirement already satisfied: qtconsole in /usr/local/lib/python3.7/dist-packages (from jupyter->py-heat-magic) (5.3.2)\n",
            "Requirement already satisfied: notebook in /usr/local/lib/python3.7/dist-packages (from jupyter->py-heat-magic) (5.5.0)\n",
            "Requirement already satisfied: nbconvert in /usr/local/lib/python3.7/dist-packages (from jupyter->py-heat-magic) (5.6.1)\n",
            "Requirement already satisfied: ipywidgets in /usr/local/lib/python3.7/dist-packages (from jupyter->py-heat-magic) (7.7.1)\n",
            "Requirement already satisfied: jupyter-console in /usr/local/lib/python3.7/dist-packages (from jupyter->py-heat-magic) (6.1.0)\n",
            "Requirement already satisfied: ipykernel in /usr/local/lib/python3.7/dist-packages (from jupyter->py-heat-magic) (5.3.4)\n",
            "Requirement already satisfied: jupyter-client in /usr/local/lib/python3.7/dist-packages (from ipykernel->jupyter->py-heat-magic) (6.1.12)\n",
            "Requirement already satisfied: tornado>=4.2 in /usr/local/lib/python3.7/dist-packages (from ipykernel->jupyter->py-heat-magic) (5.1.1)\n",
            "Requirement already satisfied: widgetsnbextension~=3.6.0 in /usr/local/lib/python3.7/dist-packages (from ipywidgets->jupyter->py-heat-magic) (3.6.1)\n",
            "Requirement already satisfied: ipython-genutils~=0.2.0 in /usr/local/lib/python3.7/dist-packages (from ipywidgets->jupyter->py-heat-magic) (0.2.0)\n",
            "Requirement already satisfied: jupyterlab-widgets>=1.0.0 in /usr/local/lib/python3.7/dist-packages (from ipywidgets->jupyter->py-heat-magic) (3.0.3)\n",
            "Requirement already satisfied: jupyter-core>=4.4.0 in /usr/local/lib/python3.7/dist-packages (from notebook->jupyter->py-heat-magic) (4.11.1)\n",
            "Requirement already satisfied: nbformat in /usr/local/lib/python3.7/dist-packages (from notebook->jupyter->py-heat-magic) (5.7.0)\n",
            "Requirement already satisfied: pyzmq>=17 in /usr/local/lib/python3.7/dist-packages (from notebook->jupyter->py-heat-magic) (23.2.1)\n",
            "Requirement already satisfied: terminado>=0.8.1 in /usr/local/lib/python3.7/dist-packages (from notebook->jupyter->py-heat-magic) (0.13.3)\n",
            "Requirement already satisfied: Send2Trash in /usr/local/lib/python3.7/dist-packages (from notebook->jupyter->py-heat-magic) (1.8.0)\n",
            "Requirement already satisfied: jinja2 in /usr/local/lib/python3.7/dist-packages (from notebook->jupyter->py-heat-magic) (2.11.3)\n",
            "Requirement already satisfied: python-dateutil>=2.1 in /usr/local/lib/python3.7/dist-packages (from jupyter-client->ipykernel->jupyter->py-heat-magic) (2.8.2)\n",
            "Requirement already satisfied: ptyprocess in /usr/local/lib/python3.7/dist-packages (from terminado>=0.8.1->notebook->jupyter->py-heat-magic) (0.7.0)\n",
            "Requirement already satisfied: MarkupSafe>=0.23 in /usr/local/lib/python3.7/dist-packages (from jinja2->notebook->jupyter->py-heat-magic) (2.0.1)\n",
            "Requirement already satisfied: cycler>=0.10 in /usr/local/lib/python3.7/dist-packages (from matplotlib->py-heat-magic) (0.11.0)\n",
            "Requirement already satisfied: kiwisolver>=1.0.1 in /usr/local/lib/python3.7/dist-packages (from matplotlib->py-heat-magic) (1.4.4)\n",
            "Requirement already satisfied: pyparsing!=2.0.4,!=2.1.2,!=2.1.6,>=2.0.1 in /usr/local/lib/python3.7/dist-packages (from matplotlib->py-heat-magic) (3.0.9)\n",
            "Requirement already satisfied: typing-extensions in /usr/local/lib/python3.7/dist-packages (from kiwisolver>=1.0.1->matplotlib->py-heat-magic) (4.1.1)\n",
            "Requirement already satisfied: bleach in /usr/local/lib/python3.7/dist-packages (from nbconvert->jupyter->py-heat-magic) (5.0.1)\n",
            "Requirement already satisfied: mistune<2,>=0.8.1 in /usr/local/lib/python3.7/dist-packages (from nbconvert->jupyter->py-heat-magic) (0.8.4)\n",
            "Requirement already satisfied: defusedxml in /usr/local/lib/python3.7/dist-packages (from nbconvert->jupyter->py-heat-magic) (0.7.1)\n",
            "Requirement already satisfied: pandocfilters>=1.4.1 in /usr/local/lib/python3.7/dist-packages (from nbconvert->jupyter->py-heat-magic) (1.5.0)\n",
            "Requirement already satisfied: testpath in /usr/local/lib/python3.7/dist-packages (from nbconvert->jupyter->py-heat-magic) (0.6.0)\n",
            "Requirement already satisfied: entrypoints>=0.2.2 in /usr/local/lib/python3.7/dist-packages (from nbconvert->jupyter->py-heat-magic) (0.4)\n",
            "Requirement already satisfied: fastjsonschema in /usr/local/lib/python3.7/dist-packages (from nbformat->notebook->jupyter->py-heat-magic) (2.16.2)\n",
            "Requirement already satisfied: jsonschema>=2.6 in /usr/local/lib/python3.7/dist-packages (from nbformat->notebook->jupyter->py-heat-magic) (4.3.3)\n",
            "Requirement already satisfied: importlib-metadata>=3.6 in /usr/local/lib/python3.7/dist-packages (from nbformat->notebook->jupyter->py-heat-magic) (5.0.0)\n",
            "Requirement already satisfied: zipp>=0.5 in /usr/local/lib/python3.7/dist-packages (from importlib-metadata>=3.6->nbformat->notebook->jupyter->py-heat-magic) (3.9.0)\n",
            "Requirement already satisfied: importlib-resources>=1.4.0 in /usr/local/lib/python3.7/dist-packages (from jsonschema>=2.6->nbformat->notebook->jupyter->py-heat-magic) (5.10.0)\n",
            "Requirement already satisfied: attrs>=17.4.0 in /usr/local/lib/python3.7/dist-packages (from jsonschema>=2.6->nbformat->notebook->jupyter->py-heat-magic) (22.1.0)\n",
            "Requirement already satisfied: pyrsistent!=0.17.0,!=0.17.1,!=0.17.2,>=0.14.0 in /usr/local/lib/python3.7/dist-packages (from jsonschema>=2.6->nbformat->notebook->jupyter->py-heat-magic) (0.18.1)\n",
            "Requirement already satisfied: webencodings in /usr/local/lib/python3.7/dist-packages (from bleach->nbconvert->jupyter->py-heat-magic) (0.5.1)\n",
            "Requirement already satisfied: pytz>=2017.3 in /usr/local/lib/python3.7/dist-packages (from pandas->py-heat-magic) (2022.4)\n",
            "Requirement already satisfied: pprofile in /usr/local/lib/python3.7/dist-packages (from py-heat->py-heat-magic) (2.1.0)\n",
            "Requirement already satisfied: qtpy>=2.0.1 in /usr/local/lib/python3.7/dist-packages (from qtconsole->jupyter->py-heat-magic) (2.2.1)\n",
            "Requirement already satisfied: packaging in /usr/local/lib/python3.7/dist-packages (from qtpy>=2.0.1->qtconsole->jupyter->py-heat-magic) (21.3)\n",
            "Requirement already satisfied: mpmath>=0.19 in /usr/local/lib/python3.7/dist-packages (from sympy->py-heat-magic) (1.2.1)\n",
            "The heat extension is already loaded. To reload it, use:\n",
            "  %reload_ext heat\n"
          ]
        }
      ]
    },
    {
      "cell_type": "code",
      "source": [
        "%%heat\n",
        "def bubble_sort(array):\n",
        "    n = len(array)\n",
        "\n",
        "    for i in range(n):\n",
        "        already_sorted = True\n",
        "        for j in range(n - i - 1):\n",
        "            if array[j] > array[j + 1]:\n",
        "                array[j], array[j + 1] = array[j + 1], array[j]\n",
        "                already_sorted = False\n",
        "        if already_sorted:\n",
        "            break\n",
        "\n",
        "    return array\n",
        "\n",
        "bubble_sort([8, 2, 6, 4, 5])\n"
      ],
      "metadata": {
        "colab": {
          "base_uri": "https://localhost:8080/",
          "height": 695
        },
        "id": "GaNOmi0cvfA3",
        "outputId": "74039078-ae3e-42aa-be28-b647db9596bc"
      },
      "execution_count": null,
      "outputs": [
        {
          "output_type": "stream",
          "name": "stderr",
          "text": [
            "\n",
            "PYDEV DEBUGGER WARNING:\n",
            "sys.settrace() should not be used when the debugger is being used.\n",
            "This may cause the debugger to stop working correctly.\n",
            "If this is needed, please check: \n",
            "http://pydev.blogspot.com/2007/06/why-cant-pydev-debugger-work-with.html\n",
            "to see how to restore the debug tracing back correctly.\n",
            "Call Location:\n",
            "  File \"/usr/local/lib/python3.7/dist-packages/pprofile/__init__.py\", line 978, in enable\n",
            "    sys.settrace(self._global_trace)\n",
            "\n",
            "\n",
            "PYDEV DEBUGGER WARNING:\n",
            "sys.settrace() should not be used when the debugger is being used.\n",
            "This may cause the debugger to stop working correctly.\n",
            "If this is needed, please check: \n",
            "http://pydev.blogspot.com/2007/06/why-cant-pydev-debugger-work-with.html\n",
            "to see how to restore the debug tracing back correctly.\n",
            "Call Location:\n",
            "  File \"/usr/local/lib/python3.7/dist-packages/pprofile/__init__.py\", line 994, in disable\n",
            "    sys.settrace(None)\n",
            "\n"
          ]
        },
        {
          "output_type": "display_data",
          "data": {
            "text/plain": [
              "<Figure size 585x360 with 2 Axes>"
            ],
            "image/png": "[encoded data removed]"
          },
          "metadata": {}
        }
      ]
    },
    {
      "cell_type": "code",
      "source": [
        "%%file my_file.py\n",
        "from random import random\n",
        "\n",
        "def create_and_sum_matrix(N):\n",
        "    matrix = [[random() for _ in range(N)] for _ in range(N)]\n",
        "    total_by_line = [sum(l) for l in matrix]\n",
        "    total = sum(total_by_line)\n",
        "    del total_by_line\n",
        "    del matrix\n",
        "    return total\n",
        "\n",
        "def my_buuble_sort(array):\n",
        "    n = len(array)\n",
        "\n",
        "    for i in range(n):\n",
        "        already_sorted = True\n",
        "        for j in range(n - i - 1):\n",
        "            if array[j] > array[j + 1]:\n",
        "                array[j], array[j + 1] = array[j + 1], array[j]\n",
        "                already_sorted = False\n",
        "        if already_sorted:\n",
        "            break\n",
        "\n",
        "    return array\n"
      ],
      "metadata": {
        "colab": {
          "base_uri": "https://localhost:8080/"
        },
        "id": "SXhwDZDi3BrD",
        "outputId": "18ada2bb-dd93-4506-93ef-b8903ecf9034"
      },
      "execution_count": null,
      "outputs": [
        {
          "output_type": "stream",
          "name": "stdout",
          "text": [
            "Overwriting my_file.py\n"
          ]
        }
      ]
    },
    {
      "cell_type": "code",
      "source": [
        "from my_file import create_and_sum_matrix\n",
        "%mprun -f create_and_sum_matrix create_and_sum_matrix(500)"
      ],
      "metadata": {
        "colab": {
          "base_uri": "https://localhost:8080/"
        },
        "id": "gt2ByDTDHHrI",
        "outputId": "9dd4f664-19a6-4f08-dfc5-f84dae1bb15d"
      },
      "execution_count": null,
      "outputs": [
        {
          "output_type": "stream",
          "name": "stderr",
          "text": [
            "\n",
            "PYDEV DEBUGGER WARNING:\n",
            "sys.settrace() should not be used when the debugger is being used.\n",
            "This may cause the debugger to stop working correctly.\n",
            "If this is needed, please check: \n",
            "http://pydev.blogspot.com/2007/06/why-cant-pydev-debugger-work-with.html\n",
            "to see how to restore the debug tracing back correctly.\n",
            "Call Location:\n",
            "  File \"/usr/local/lib/python3.7/dist-packages/memory_profiler.py\", line 845, in enable\n",
            "    sys.settrace(self.trace_memory_usage)\n",
            "\n",
            "\n",
            "PYDEV DEBUGGER WARNING:\n",
            "sys.settrace() should not be used when the debugger is being used.\n",
            "This may cause the debugger to stop working correctly.\n",
            "If this is needed, please check: \n",
            "http://pydev.blogspot.com/2007/06/why-cant-pydev-debugger-work-with.html\n",
            "to see how to restore the debug tracing back correctly.\n",
            "Call Location:\n",
            "  File \"/usr/local/lib/python3.7/dist-packages/memory_profiler.py\", line 848, in disable\n",
            "    sys.settrace(self._original_trace_function)\n",
            "\n"
          ]
        },
        {
          "output_type": "stream",
          "name": "stdout",
          "text": [
            "\n"
          ]
        }
      ]
    },
    {
      "cell_type": "code",
      "source": [
        "from my_file import my_buuble_sort\n",
        "%mprun -f my_buuble_sort my_buuble_sort([8, 2, 6, 4, 5])\n"
      ],
      "metadata": {
        "colab": {
          "base_uri": "https://localhost:8080/"
        },
        "id": "ZbX33WgIIdp0",
        "outputId": "cce90fd6-b8e4-49b9-cddb-28d05be868e3"
      },
      "execution_count": null,
      "outputs": [
        {
          "output_type": "stream",
          "name": "stdout",
          "text": [
            "\n"
          ]
        }
      ]
    },
    {
      "cell_type": "code",
      "source": [
        "from math import log\n",
        "import numpy as np\n",
        "import matplotlib.pyplot as plt\n",
        "import seaborn as sns\n",
        "\n",
        "n = np.linspace(1,15)\n",
        "labels = ['Constant','Logarithmic','Linear','Log Linear','Quadratic','Cubic','Exponential']\n",
        "big_o = [np.ones(n.shape),np.log(n),n,n*np.log(n),n**2,n**3,2**n]\n",
        "\n",
        "plt.figure(figsize=(12,10))\n",
        "plt.ylim(0,100)\n",
        "\n",
        "for i in range(len(big_o)):\n",
        "  sns.lineplot(n,big_o[i],label = labels[i])"
      ],
      "metadata": {
        "colab": {
          "base_uri": "https://localhost:8080/",
          "height": 596
        },
        "id": "WtP_pNjKJOnd",
        "outputId": "8d08a6e4-dc00-4be1-c509-101284f7b61d"
      },
      "execution_count": null,
      "outputs": [
        {
          "output_type": "display_data",
          "data": {
            "text/plain": [
              "<Figure size 864x720 with 1 Axes>"
            ],
            "image/png": "[encoded data removed]"
          },
          "metadata": {}
        }
      ]
    }
  ]
}