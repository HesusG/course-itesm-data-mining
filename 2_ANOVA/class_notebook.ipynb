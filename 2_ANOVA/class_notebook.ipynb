{
 "cells": [
  {
   "cell_type": "markdown",
   "metadata": {},
   "source": [
    "# ANOVA"
   ]
  },
  {
   "cell_type": "markdown",
   "metadata": {},
   "source": [
    "Table of contents"
   ]
  },
  {
   "cell_type": "markdown",
   "metadata": {},
   "source": [
    "Intro"
   ]
  },
  {
   "cell_type": "code",
   "execution_count": 6,
   "metadata": {},
   "outputs": [],
   "source": [
    "import pandas as pd\n",
    "import numpy as np\n",
    "import scipy.stats as stats\n",
    "import matplotlib.pyplot as plt\n",
    "import seaborn as sns\n",
    "from statsmodels.stats.anova import anova_lm\n",
    "from statsmodels.formula.api import ols\n",
    "from statsmodels.stats.multicomp import pairwise_tukeyhsd"
   ]
  },
  {
   "cell_type": "code",
   "execution_count": 7,
   "metadata": {},
   "outputs": [],
   "source": [
    "%matplotlib inline"
   ]
  },
  {
   "cell_type": "code",
   "execution_count": 8,
   "metadata": {},
   "outputs": [
    {
     "data": {
      "text/html": [
       "<div>\n",
       "<style scoped>\n",
       "    .dataframe tbody tr th:only-of-type {\n",
       "        vertical-align: middle;\n",
       "    }\n",
       "\n",
       "    .dataframe tbody tr th {\n",
       "        vertical-align: top;\n",
       "    }\n",
       "\n",
       "    .dataframe thead th {\n",
       "        text-align: right;\n",
       "    }\n",
       "</style>\n",
       "<table border=\"1\" class=\"dataframe\">\n",
       "  <thead>\n",
       "    <tr style=\"text-align: right;\">\n",
       "      <th></th>\n",
       "      <th>Company</th>\n",
       "      <th>Specific Bean Origin or Bar Name</th>\n",
       "      <th>REF</th>\n",
       "      <th>Review Date</th>\n",
       "      <th>Cocoa Percent</th>\n",
       "      <th>Company Location</th>\n",
       "      <th>Rating</th>\n",
       "      <th>Bean Type</th>\n",
       "      <th>Broad Bean Origin</th>\n",
       "    </tr>\n",
       "  </thead>\n",
       "  <tbody>\n",
       "    <tr>\n",
       "      <th>0</th>\n",
       "      <td>A. Morin</td>\n",
       "      <td>Agua Grande</td>\n",
       "      <td>1876</td>\n",
       "      <td>2016</td>\n",
       "      <td>63%</td>\n",
       "      <td>France</td>\n",
       "      <td>3.75</td>\n",
       "      <td></td>\n",
       "      <td>Sao Tome</td>\n",
       "    </tr>\n",
       "    <tr>\n",
       "      <th>1</th>\n",
       "      <td>A. Morin</td>\n",
       "      <td>Kpime</td>\n",
       "      <td>1676</td>\n",
       "      <td>2015</td>\n",
       "      <td>70%</td>\n",
       "      <td>France</td>\n",
       "      <td>2.75</td>\n",
       "      <td></td>\n",
       "      <td>Togo</td>\n",
       "    </tr>\n",
       "    <tr>\n",
       "      <th>2</th>\n",
       "      <td>A. Morin</td>\n",
       "      <td>Atsane</td>\n",
       "      <td>1676</td>\n",
       "      <td>2015</td>\n",
       "      <td>70%</td>\n",
       "      <td>France</td>\n",
       "      <td>3.00</td>\n",
       "      <td></td>\n",
       "      <td>Togo</td>\n",
       "    </tr>\n",
       "    <tr>\n",
       "      <th>3</th>\n",
       "      <td>A. Morin</td>\n",
       "      <td>Akata</td>\n",
       "      <td>1680</td>\n",
       "      <td>2015</td>\n",
       "      <td>70%</td>\n",
       "      <td>France</td>\n",
       "      <td>3.50</td>\n",
       "      <td></td>\n",
       "      <td>Togo</td>\n",
       "    </tr>\n",
       "    <tr>\n",
       "      <th>4</th>\n",
       "      <td>A. Morin</td>\n",
       "      <td>Quilla</td>\n",
       "      <td>1704</td>\n",
       "      <td>2015</td>\n",
       "      <td>70%</td>\n",
       "      <td>France</td>\n",
       "      <td>3.50</td>\n",
       "      <td></td>\n",
       "      <td>Peru</td>\n",
       "    </tr>\n",
       "  </tbody>\n",
       "</table>\n",
       "</div>"
      ],
      "text/plain": [
       "    Company Specific Bean Origin or Bar Name   REF  Review Date Cocoa Percent  \\\n",
       "0  A. Morin                      Agua Grande  1876         2016           63%   \n",
       "1  A. Morin                            Kpime  1676         2015           70%   \n",
       "2  A. Morin                           Atsane  1676         2015           70%   \n",
       "3  A. Morin                            Akata  1680         2015           70%   \n",
       "4  A. Morin                           Quilla  1704         2015           70%   \n",
       "\n",
       "  Company Location  Rating Bean Type Broad Bean Origin  \n",
       "0           France    3.75                    Sao Tome  \n",
       "1           France    2.75                        Togo  \n",
       "2           France    3.00                        Togo  \n",
       "3           France    3.50                        Togo  \n",
       "4           France    3.50                        Peru  "
      ]
     },
     "metadata": {},
     "output_type": "display_data"
    },
    {
     "name": "stdout",
     "output_type": "stream",
     "text": [
      "\n",
      "Missing Values in Each Column:\n",
      "Company                             0\n",
      "Specific Bean Origin or Bar Name    0\n",
      "REF                                 0\n",
      "Review Date                         0\n",
      "Cocoa Percent                       0\n",
      "Company Location                    0\n",
      "Rating                              0\n",
      "Bean Type                           1\n",
      "Broad Bean Origin                   1\n",
      "dtype: int64\n"
     ]
    }
   ],
   "source": [
    "# Define the path to the CSV file\n",
    "csv_file_path = r'data\\flavors_of_cacao.csv'\n",
    "\n",
    "# Read the CSV file\n",
    "df = pd.read_csv(\"https://raw.githubusercontent.com/HesusG/course-itesm-data-mining/refs/heads/main/2_ANOVA/data/flavors_of_cacao.csv\")\n",
    "# Display the first few rows to verify\n",
    "display(df.head())\n",
    "\n",
    "# Check for missing values\n",
    "print(\"\\nMissing Values in Each Column:\")\n",
    "print(df.isnull().sum())\n"
   ]
  },
  {
   "cell_type": "markdown",
   "metadata": {},
   "source": [
    "# Pre-Procesing "
   ]
  },
  {
   "cell_type": "code",
   "execution_count": 9,
   "metadata": {},
   "outputs": [
    {
     "name": "stdout",
     "output_type": "stream",
     "text": [
      "\n",
      "Data Types After Conversion:\n",
      "Company                              object\n",
      "Specific Bean Origin or Bar Name     object\n",
      "REF                                   int64\n",
      "Review Date                           int64\n",
      "Cocoa Percent                       float64\n",
      "Company Location                     object\n",
      "Rating                              float64\n",
      "Bean Type                            object\n",
      "Broad Bean Origin                    object\n",
      "dtype: object\n"
     ]
    }
   ],
   "source": [
    "# Drop rows with missing 'Bean Type' if it's essential; otherwise, keep them\n",
    "# For this analysis, we'll keep them as we're focusing on 'Broad Bean Origin'\n",
    "# But ensure 'Broad Bean Origin' and 'Rating' are not missing\n",
    "\n",
    "# Convert 'Cocoa Percent' to float\n",
    "df['Cocoa Percent'] = df['Cocoa Percent'].str.rstrip('%').astype(float)\n",
    "\n",
    "\n",
    "# Verify data types\n",
    "print(\"\\nData Types After Conversion:\")\n",
    "print(df.dtypes)"
   ]
  },
  {
   "cell_type": "markdown",
   "metadata": {},
   "source": [
    "#   EDA"
   ]
  },
  {
   "cell_type": "code",
   "execution_count": 10,
   "metadata": {},
   "outputs": [
    {
     "name": "stdout",
     "output_type": "stream",
     "text": [
      "\n",
      "Summary Statistics by Broad Bean Origin:\n"
     ]
    },
    {
     "data": {
      "text/html": [
       "<div>\n",
       "<style scoped>\n",
       "    .dataframe tbody tr th:only-of-type {\n",
       "        vertical-align: middle;\n",
       "    }\n",
       "\n",
       "    .dataframe tbody tr th {\n",
       "        vertical-align: top;\n",
       "    }\n",
       "\n",
       "    .dataframe thead th {\n",
       "        text-align: right;\n",
       "    }\n",
       "</style>\n",
       "<table border=\"1\" class=\"dataframe\">\n",
       "  <thead>\n",
       "    <tr style=\"text-align: right;\">\n",
       "      <th></th>\n",
       "      <th>count</th>\n",
       "      <th>mean</th>\n",
       "      <th>std</th>\n",
       "      <th>min</th>\n",
       "      <th>25%</th>\n",
       "      <th>50%</th>\n",
       "      <th>75%</th>\n",
       "      <th>max</th>\n",
       "    </tr>\n",
       "    <tr>\n",
       "      <th>Broad Bean Origin</th>\n",
       "      <th></th>\n",
       "      <th></th>\n",
       "      <th></th>\n",
       "      <th></th>\n",
       "      <th></th>\n",
       "      <th></th>\n",
       "      <th></th>\n",
       "      <th></th>\n",
       "    </tr>\n",
       "  </thead>\n",
       "  <tbody>\n",
       "    <tr>\n",
       "      <th>Africa, Carribean, C. Am.</th>\n",
       "      <td>1.0</td>\n",
       "      <td>2.750000</td>\n",
       "      <td>NaN</td>\n",
       "      <td>2.75</td>\n",
       "      <td>2.750</td>\n",
       "      <td>2.750</td>\n",
       "      <td>2.7500</td>\n",
       "      <td>2.75</td>\n",
       "    </tr>\n",
       "    <tr>\n",
       "      <th>Australia</th>\n",
       "      <td>3.0</td>\n",
       "      <td>3.250000</td>\n",
       "      <td>0.500000</td>\n",
       "      <td>2.75</td>\n",
       "      <td>3.000</td>\n",
       "      <td>3.250</td>\n",
       "      <td>3.5000</td>\n",
       "      <td>3.75</td>\n",
       "    </tr>\n",
       "    <tr>\n",
       "      <th>Belize</th>\n",
       "      <td>49.0</td>\n",
       "      <td>3.234694</td>\n",
       "      <td>0.320352</td>\n",
       "      <td>2.75</td>\n",
       "      <td>3.000</td>\n",
       "      <td>3.250</td>\n",
       "      <td>3.5000</td>\n",
       "      <td>4.00</td>\n",
       "    </tr>\n",
       "    <tr>\n",
       "      <th>Bolivia</th>\n",
       "      <td>57.0</td>\n",
       "      <td>3.197368</td>\n",
       "      <td>0.421882</td>\n",
       "      <td>2.00</td>\n",
       "      <td>3.000</td>\n",
       "      <td>3.250</td>\n",
       "      <td>3.5000</td>\n",
       "      <td>4.00</td>\n",
       "    </tr>\n",
       "    <tr>\n",
       "      <th>Brazil</th>\n",
       "      <td>58.0</td>\n",
       "      <td>3.284483</td>\n",
       "      <td>0.417407</td>\n",
       "      <td>1.75</td>\n",
       "      <td>3.000</td>\n",
       "      <td>3.375</td>\n",
       "      <td>3.5000</td>\n",
       "      <td>4.00</td>\n",
       "    </tr>\n",
       "    <tr>\n",
       "      <th>...</th>\n",
       "      <td>...</td>\n",
       "      <td>...</td>\n",
       "      <td>...</td>\n",
       "      <td>...</td>\n",
       "      <td>...</td>\n",
       "      <td>...</td>\n",
       "      <td>...</td>\n",
       "      <td>...</td>\n",
       "    </tr>\n",
       "    <tr>\n",
       "      <th>Venezuela, Trinidad</th>\n",
       "      <td>1.0</td>\n",
       "      <td>2.500000</td>\n",
       "      <td>NaN</td>\n",
       "      <td>2.50</td>\n",
       "      <td>2.500</td>\n",
       "      <td>2.500</td>\n",
       "      <td>2.5000</td>\n",
       "      <td>2.50</td>\n",
       "    </tr>\n",
       "    <tr>\n",
       "      <th>Venezuela/ Ghana</th>\n",
       "      <td>1.0</td>\n",
       "      <td>3.500000</td>\n",
       "      <td>NaN</td>\n",
       "      <td>3.50</td>\n",
       "      <td>3.500</td>\n",
       "      <td>3.500</td>\n",
       "      <td>3.5000</td>\n",
       "      <td>3.50</td>\n",
       "    </tr>\n",
       "    <tr>\n",
       "      <th>Vietnam</th>\n",
       "      <td>38.0</td>\n",
       "      <td>3.315789</td>\n",
       "      <td>0.316677</td>\n",
       "      <td>2.75</td>\n",
       "      <td>3.000</td>\n",
       "      <td>3.375</td>\n",
       "      <td>3.5000</td>\n",
       "      <td>4.00</td>\n",
       "    </tr>\n",
       "    <tr>\n",
       "      <th>West Africa</th>\n",
       "      <td>6.0</td>\n",
       "      <td>2.583333</td>\n",
       "      <td>0.516398</td>\n",
       "      <td>2.00</td>\n",
       "      <td>2.125</td>\n",
       "      <td>2.625</td>\n",
       "      <td>2.9375</td>\n",
       "      <td>3.25</td>\n",
       "    </tr>\n",
       "    <tr>\n",
       "      <th></th>\n",
       "      <td>73.0</td>\n",
       "      <td>2.955479</td>\n",
       "      <td>0.746918</td>\n",
       "      <td>1.00</td>\n",
       "      <td>2.750</td>\n",
       "      <td>3.000</td>\n",
       "      <td>3.5000</td>\n",
       "      <td>5.00</td>\n",
       "    </tr>\n",
       "  </tbody>\n",
       "</table>\n",
       "<p>100 rows × 8 columns</p>\n",
       "</div>"
      ],
      "text/plain": [
       "                           count      mean       std   min    25%    50%  \\\n",
       "Broad Bean Origin                                                          \n",
       "Africa, Carribean, C. Am.    1.0  2.750000       NaN  2.75  2.750  2.750   \n",
       "Australia                    3.0  3.250000  0.500000  2.75  3.000  3.250   \n",
       "Belize                      49.0  3.234694  0.320352  2.75  3.000  3.250   \n",
       "Bolivia                     57.0  3.197368  0.421882  2.00  3.000  3.250   \n",
       "Brazil                      58.0  3.284483  0.417407  1.75  3.000  3.375   \n",
       "...                          ...       ...       ...   ...    ...    ...   \n",
       "Venezuela, Trinidad          1.0  2.500000       NaN  2.50  2.500  2.500   \n",
       "Venezuela/ Ghana             1.0  3.500000       NaN  3.50  3.500  3.500   \n",
       "Vietnam                     38.0  3.315789  0.316677  2.75  3.000  3.375   \n",
       "West Africa                  6.0  2.583333  0.516398  2.00  2.125  2.625   \n",
       "                            73.0  2.955479  0.746918  1.00  2.750  3.000   \n",
       "\n",
       "                              75%   max  \n",
       "Broad Bean Origin                        \n",
       "Africa, Carribean, C. Am.  2.7500  2.75  \n",
       "Australia                  3.5000  3.75  \n",
       "Belize                     3.5000  4.00  \n",
       "Bolivia                    3.5000  4.00  \n",
       "Brazil                     3.5000  4.00  \n",
       "...                           ...   ...  \n",
       "Venezuela, Trinidad        2.5000  2.50  \n",
       "Venezuela/ Ghana           3.5000  3.50  \n",
       "Vietnam                    3.5000  4.00  \n",
       "West Africa                2.9375  3.25  \n",
       "                           3.5000  5.00  \n",
       "\n",
       "[100 rows x 8 columns]"
      ]
     },
     "metadata": {},
     "output_type": "display_data"
    }
   ],
   "source": [
    "# Display summary statistics for 'Rating' grouped by 'Broad Bean Origin'\n",
    "print(\"\\nSummary Statistics by Broad Bean Origin:\")\n",
    "display(df.groupby('Broad Bean Origin')['Rating'].describe())\n"
   ]
  },
  {
   "cell_type": "code",
   "execution_count": 11,
   "metadata": {},
   "outputs": [
    {
     "name": "stdout",
     "output_type": "stream",
     "text": [
      "Number of chocolates per Origin Country:\n",
      "Madagascar    145\n",
      "Colombia       40\n",
      "Ghana          33\n",
      "Mexico         30\n",
      "Uganda          8\n",
      "Togo            3\n",
      "Nigeria         1\n",
      "Cameroon        1\n",
      "Name: Broad Bean Origin, dtype: int64\n"
     ]
    }
   ],
   "source": [
    "# Define the list of desired origin countries\n",
    "selected_origins = ['Mexico', 'Colombia', 'Ghana', 'Nigeria', 'Cameroon', 'Madagascar', 'Togo', 'Uganda', 'Sierra Leone']\n",
    "\n",
    "# Filter the DataFrame\n",
    "df = df[df['Broad Bean Origin'].isin(selected_origins)].copy()\n",
    "\n",
    "# Reset index after filtering\n",
    "df.reset_index(drop=True, inplace=True)\n",
    "\n",
    "# Check the number of entries per origin\n",
    "print(\"Number of chocolates per Origin Country:\")\n",
    "print(df['Broad Bean Origin'].value_counts())\n"
   ]
  },
  {
   "cell_type": "code",
   "execution_count": 12,
   "metadata": {},
   "outputs": [
    {
     "data": {
      "image/png": "[encoded data removed]",
      "text/plain": [
       "<Figure size 1200x800 with 1 Axes>"
      ]
     },
     "metadata": {},
     "output_type": "display_data"
    }
   ],
   "source": [
    "# Boxplot to visualize the distribution of ratings by Broad Bean Origin\n",
    "plt.figure(figsize=(12, 8))\n",
    "sns.boxplot(x='Broad Bean Origin', y='Rating', data=df, palette=\"Set3\")\n",
    "plt.title('Boxplot of Chocolate Ratings by Broad Bean Origin')\n",
    "plt.xlabel('Broad Bean Origin')\n",
    "plt.ylabel('Rating')\n",
    "plt.xticks(rotation=45)\n",
    "plt.show()"
   ]
  },
  {
   "cell_type": "markdown",
   "metadata": {},
   "source": [
    "# ANOVA"
   ]
  },
  {
   "cell_type": "markdown",
   "metadata": {},
   "source": [
    "# Verify Assumptions"
   ]
  },
  {
   "cell_type": "markdown",
   "metadata": {},
   "source": [
    "## One-Way ANOVA"
   ]
  },
  {
   "cell_type": "markdown",
   "metadata": {},
   "source": [
    "## Conclusions "
   ]
  }
 ],
 "metadata": {
  "kernelspec": {
   "display_name": "Python 3",
   "language": "python",
   "name": "python3"
  },
  "language_info": {
   "codemirror_mode": {
    "name": "ipython",
    "version": 3
   },
   "file_extension": ".py",
   "mimetype": "text/x-python",
   "name": "python",
   "nbconvert_exporter": "python",
   "pygments_lexer": "ipython3",
   "version": "3.7.16"
  }
 },
 "nbformat": 4,
 "nbformat_minor": 2
}
